{
 "cells": [
  {
   "cell_type": "code",
   "execution_count": 1,
   "id": "3916d493",
   "metadata": {},
   "outputs": [],
   "source": [
    "import pandas as pd\n",
    "import numpy as np\n",
    "import matplotlib.pyplot as plt\n",
    "import seaborn as sns"
   ]
  },
  {
   "cell_type": "code",
   "execution_count": 2,
   "id": "6ce6b64a",
   "metadata": {},
   "outputs": [
    {
     "data": {
      "text/html": [
       "<div>\n",
       "<style scoped>\n",
       "    .dataframe tbody tr th:only-of-type {\n",
       "        vertical-align: middle;\n",
       "    }\n",
       "\n",
       "    .dataframe tbody tr th {\n",
       "        vertical-align: top;\n",
       "    }\n",
       "\n",
       "    .dataframe thead th {\n",
       "        text-align: right;\n",
       "    }\n",
       "</style>\n",
       "<table border=\"1\" class=\"dataframe\">\n",
       "  <thead>\n",
       "    <tr style=\"text-align: right;\">\n",
       "      <th></th>\n",
       "      <th>ticket_id</th>\n",
       "      <th>cliente_id</th>\n",
       "      <th>categoria_gelt</th>\n",
       "      <th>subcategoria</th>\n",
       "      <th>product_code</th>\n",
       "      <th>unit_price</th>\n",
       "      <th>total_price</th>\n",
       "      <th>quantity</th>\n",
       "      <th>label</th>\n",
       "      <th>shop_name</th>\n",
       "      <th>descripcion</th>\n",
       "    </tr>\n",
       "  </thead>\n",
       "  <tbody>\n",
       "    <tr>\n",
       "      <th>0</th>\n",
       "      <td>2550015</td>\n",
       "      <td>1063748</td>\n",
       "      <td>Bebida sin alcohol</td>\n",
       "      <td>JUGOS LISTOS P/BEBER</td>\n",
       "      <td>7,79074E+12</td>\n",
       "      <td>220,5</td>\n",
       "      <td>441</td>\n",
       "      <td>2</td>\n",
       "      <td>BEBIDA A BASE ARROZ Y PLÁTANO LA PINTA</td>\n",
       "      <td>CARREFOUR</td>\n",
       "      <td>LA PINTA, Jugo Vegetal Plátano 1 Lt</td>\n",
       "    </tr>\n",
       "    <tr>\n",
       "      <th>1</th>\n",
       "      <td>2552835</td>\n",
       "      <td>1051893</td>\n",
       "      <td>Bebida sin alcohol</td>\n",
       "      <td>JUGOS LISTOS P/BEBER</td>\n",
       "      <td>7,79074E+12</td>\n",
       "      <td>200,45</td>\n",
       "      <td>400,9</td>\n",
       "      <td>2</td>\n",
       "      <td>BEBIDA A BASE ARROZ Y PLÁTANO LA PINTA</td>\n",
       "      <td>CARREFOUR</td>\n",
       "      <td>LA PINTA, Jugo Vegetal Plátano 1 Lt</td>\n",
       "    </tr>\n",
       "    <tr>\n",
       "      <th>2</th>\n",
       "      <td>2568063</td>\n",
       "      <td>1176129</td>\n",
       "      <td>Bebida sin alcohol</td>\n",
       "      <td>JUGOS LISTOS P/BEBER</td>\n",
       "      <td>7,79074E+12</td>\n",
       "      <td>200,45</td>\n",
       "      <td>400,9</td>\n",
       "      <td>2</td>\n",
       "      <td>BEBIDA A BASE ARROZ Y PLÁTANO LA PINTA</td>\n",
       "      <td>CARREFOUR</td>\n",
       "      <td>LA PINTA, Jugo Vegetal Plátano 1 Lt</td>\n",
       "    </tr>\n",
       "    <tr>\n",
       "      <th>3</th>\n",
       "      <td>2572434</td>\n",
       "      <td>1146562</td>\n",
       "      <td>Bebida sin alcohol</td>\n",
       "      <td>JUGOS LISTOS P/BEBER</td>\n",
       "      <td>7,79074E+12</td>\n",
       "      <td>1</td>\n",
       "      <td>187,3</td>\n",
       "      <td>1</td>\n",
       "      <td>1A PINTA</td>\n",
       "      <td>COTO</td>\n",
       "      <td>LA PINTA, Jugo Vegetal Plátano 1 Lt</td>\n",
       "    </tr>\n",
       "    <tr>\n",
       "      <th>4</th>\n",
       "      <td>2576622</td>\n",
       "      <td>102182640</td>\n",
       "      <td>Bebida sin alcohol</td>\n",
       "      <td>JUGOS LISTOS P/BEBER</td>\n",
       "      <td>7,79074E+12</td>\n",
       "      <td>218</td>\n",
       "      <td>218</td>\n",
       "      <td>1</td>\n",
       "      <td>LP JUGO</td>\n",
       "      <td>CHANGOMAS</td>\n",
       "      <td>LA PINTA, Jugo Vegetal Plátano 1 Lt</td>\n",
       "    </tr>\n",
       "    <tr>\n",
       "      <th>...</th>\n",
       "      <td>...</td>\n",
       "      <td>...</td>\n",
       "      <td>...</td>\n",
       "      <td>...</td>\n",
       "      <td>...</td>\n",
       "      <td>...</td>\n",
       "      <td>...</td>\n",
       "      <td>...</td>\n",
       "      <td>...</td>\n",
       "      <td>...</td>\n",
       "      <td>...</td>\n",
       "    </tr>\n",
       "    <tr>\n",
       "      <th>3634</th>\n",
       "      <td>2944726</td>\n",
       "      <td>1117976</td>\n",
       "      <td>Bebida sin alcohol</td>\n",
       "      <td>AGUAS MINERALES, SODAS Y AGUAS POTABLES</td>\n",
       "      <td>7,79806E+12</td>\n",
       "      <td>206,61</td>\n",
       "      <td>206,61</td>\n",
       "      <td>1</td>\n",
       "      <td>AGUA DE MESA SIN GAS BIDON VILLA DEL SUR</td>\n",
       "      <td>CARREFOUR</td>\n",
       "      <td>VILLA DEL SUR       NATURAL   S/GAS        625...</td>\n",
       "    </tr>\n",
       "    <tr>\n",
       "      <th>3635</th>\n",
       "      <td>2944726</td>\n",
       "      <td>1117976</td>\n",
       "      <td>Bebida sin alcohol</td>\n",
       "      <td>AGUAS MINERALES, SODAS Y AGUAS POTABLES</td>\n",
       "      <td>7,79806E+12</td>\n",
       "      <td>206,61</td>\n",
       "      <td>206,61</td>\n",
       "      <td>1</td>\n",
       "      <td>AGUA DE MESA SIN GAS BIDON VILLA DEL SUR</td>\n",
       "      <td>CARREFOUR</td>\n",
       "      <td>VILLA DEL SUR       NATURAL   S/GAS        625...</td>\n",
       "    </tr>\n",
       "    <tr>\n",
       "      <th>3636</th>\n",
       "      <td>3045455</td>\n",
       "      <td>102023527</td>\n",
       "      <td>Bebida sin alcohol</td>\n",
       "      <td>AGUAS MINERALES, SODAS Y AGUAS POTABLES</td>\n",
       "      <td>7,79806E+12</td>\n",
       "      <td>1</td>\n",
       "      <td>2246</td>\n",
       "      <td>1</td>\n",
       "      <td>AGUA MINERAL SIN GAS VILLA DEL SUR BID 6.25 LTR</td>\n",
       "      <td>COTO</td>\n",
       "      <td>VILLA DEL SUR       NATURAL   S/GAS        625...</td>\n",
       "    </tr>\n",
       "    <tr>\n",
       "      <th>3637</th>\n",
       "      <td>2701531</td>\n",
       "      <td>102178521</td>\n",
       "      <td>Bebida sin alcohol</td>\n",
       "      <td>AGUAS MINERALES, SODAS Y AGUAS POTABLES</td>\n",
       "      <td>7,7909E+12</td>\n",
       "      <td>83,6</td>\n",
       "      <td>83,6</td>\n",
       "      <td>1</td>\n",
       "      <td>AGUA DE MESA SIN GAS BENEDICTINO PET X 2</td>\n",
       "      <td>CARREFOUR</td>\n",
       "      <td>BENEDICTINO AGUA D MESA POT. S/GAS BOT. PLAST....</td>\n",
       "    </tr>\n",
       "    <tr>\n",
       "      <th>3638</th>\n",
       "      <td>2701612</td>\n",
       "      <td>102224475</td>\n",
       "      <td>Bebida sin alcohol</td>\n",
       "      <td>AGUAS MINERALES, SODAS Y AGUAS POTABLES</td>\n",
       "      <td>7,7909E+12</td>\n",
       "      <td>83,6</td>\n",
       "      <td>83,6</td>\n",
       "      <td>1</td>\n",
       "      <td>AGUA DE MESA SIN GAS BENEDICTINO PET X 2</td>\n",
       "      <td>CARREFOUR</td>\n",
       "      <td>BENEDICTINO AGUA D MESA POT. S/GAS BOT. PLAST....</td>\n",
       "    </tr>\n",
       "  </tbody>\n",
       "</table>\n",
       "<p>3639 rows × 11 columns</p>\n",
       "</div>"
      ],
      "text/plain": [
       "      ticket_id  cliente_id      categoria_gelt  \\\n",
       "0       2550015     1063748  Bebida sin alcohol   \n",
       "1       2552835     1051893  Bebida sin alcohol   \n",
       "2       2568063     1176129  Bebida sin alcohol   \n",
       "3       2572434     1146562  Bebida sin alcohol   \n",
       "4       2576622   102182640  Bebida sin alcohol   \n",
       "...         ...         ...                 ...   \n",
       "3634    2944726     1117976  Bebida sin alcohol   \n",
       "3635    2944726     1117976  Bebida sin alcohol   \n",
       "3636    3045455   102023527  Bebida sin alcohol   \n",
       "3637    2701531   102178521  Bebida sin alcohol   \n",
       "3638    2701612   102224475  Bebida sin alcohol   \n",
       "\n",
       "                                 subcategoria product_code unit_price  \\\n",
       "0                        JUGOS LISTOS P/BEBER  7,79074E+12      220,5   \n",
       "1                        JUGOS LISTOS P/BEBER  7,79074E+12     200,45   \n",
       "2                        JUGOS LISTOS P/BEBER  7,79074E+12     200,45   \n",
       "3                        JUGOS LISTOS P/BEBER  7,79074E+12          1   \n",
       "4                        JUGOS LISTOS P/BEBER  7,79074E+12        218   \n",
       "...                                       ...          ...        ...   \n",
       "3634  AGUAS MINERALES, SODAS Y AGUAS POTABLES  7,79806E+12     206,61   \n",
       "3635  AGUAS MINERALES, SODAS Y AGUAS POTABLES  7,79806E+12     206,61   \n",
       "3636  AGUAS MINERALES, SODAS Y AGUAS POTABLES  7,79806E+12          1   \n",
       "3637  AGUAS MINERALES, SODAS Y AGUAS POTABLES   7,7909E+12       83,6   \n",
       "3638  AGUAS MINERALES, SODAS Y AGUAS POTABLES   7,7909E+12       83,6   \n",
       "\n",
       "     total_price  quantity                                            label  \\\n",
       "0            441         2           BEBIDA A BASE ARROZ Y PLÁTANO LA PINTA   \n",
       "1          400,9         2           BEBIDA A BASE ARROZ Y PLÁTANO LA PINTA   \n",
       "2          400,9         2           BEBIDA A BASE ARROZ Y PLÁTANO LA PINTA   \n",
       "3          187,3         1                                         1A PINTA   \n",
       "4            218         1                                          LP JUGO   \n",
       "...          ...       ...                                              ...   \n",
       "3634      206,61         1         AGUA DE MESA SIN GAS BIDON VILLA DEL SUR   \n",
       "3635      206,61         1         AGUA DE MESA SIN GAS BIDON VILLA DEL SUR   \n",
       "3636        2246         1  AGUA MINERAL SIN GAS VILLA DEL SUR BID 6.25 LTR   \n",
       "3637        83,6         1         AGUA DE MESA SIN GAS BENEDICTINO PET X 2   \n",
       "3638        83,6         1         AGUA DE MESA SIN GAS BENEDICTINO PET X 2   \n",
       "\n",
       "      shop_name                                        descripcion  \n",
       "0     CARREFOUR                LA PINTA, Jugo Vegetal Plátano 1 Lt  \n",
       "1     CARREFOUR                LA PINTA, Jugo Vegetal Plátano 1 Lt  \n",
       "2     CARREFOUR                LA PINTA, Jugo Vegetal Plátano 1 Lt  \n",
       "3          COTO                LA PINTA, Jugo Vegetal Plátano 1 Lt  \n",
       "4     CHANGOMAS                LA PINTA, Jugo Vegetal Plátano 1 Lt  \n",
       "...         ...                                                ...  \n",
       "3634  CARREFOUR  VILLA DEL SUR       NATURAL   S/GAS        625...  \n",
       "3635  CARREFOUR  VILLA DEL SUR       NATURAL   S/GAS        625...  \n",
       "3636       COTO  VILLA DEL SUR       NATURAL   S/GAS        625...  \n",
       "3637  CARREFOUR  BENEDICTINO AGUA D MESA POT. S/GAS BOT. PLAST....  \n",
       "3638  CARREFOUR  BENEDICTINO AGUA D MESA POT. S/GAS BOT. PLAST....  \n",
       "\n",
       "[3639 rows x 11 columns]"
      ]
     },
     "execution_count": 2,
     "metadata": {},
     "output_type": "execute_result"
    }
   ],
   "source": [
    "##Importo los datos correspondientes a la Data de cada línea de artículo dentro de los tickets de la fase 1 de la campaña\n",
    "    #Pasamos de un Excel a un CSV\n",
    "    \n",
    "df  = pd.read_csv('Lineas_tkt1.csv' , sep= \";\", encoding = 'latin-1')\n",
    "df"
   ]
  },
  {
   "cell_type": "code",
   "execution_count": 3,
   "id": "c0671964",
   "metadata": {},
   "outputs": [
    {
     "data": {
      "text/plain": [
       "(3639, 11)"
      ]
     },
     "execution_count": 3,
     "metadata": {},
     "output_type": "execute_result"
    }
   ],
   "source": [
    "df.shape\n",
    "\n",
    "#Corroboro que no se pierden valores en el pase de Excel a csv"
   ]
  },
  {
   "cell_type": "code",
   "execution_count": 4,
   "id": "92c43b89",
   "metadata": {},
   "outputs": [
    {
     "data": {
      "text/plain": [
       "(487, 11)"
      ]
     },
     "execution_count": 4,
     "metadata": {},
     "output_type": "execute_result"
    }
   ],
   "source": [
    "#Encuentro mis datos de interes en este caso los jugos listos para beber correspondientes a todas las marcas para ver la competitividad del producto\n",
    "\n",
    "df_ = df [df.subcategoria == 'JUGOS LISTOS P/BEBER']\n",
    "df_.shape"
   ]
  },
  {
   "cell_type": "code",
   "execution_count": 5,
   "id": "2043757f",
   "metadata": {},
   "outputs": [
    {
     "data": {
      "text/plain": [
       "array(['BEBIDA A BASE ARROZ Y PLÁTANO LA PINTA', '1A PINTA', 'LP JUGO',\n",
       "       'LA PINTA', 'TA PINTA', 'BUDIDA A DASI ARROZ Y NARANJA LA SERENTS',\n",
       "       'LP JUGO 2DA AL 70% LP J $-70.35', 'LP JUGO 20% DOLCA BANAN $100',\n",
       "       'BEBIDA A BASE ARROZ Y NAPANA LA SERENIS',\n",
       "       'LP JUGO 2DA AL 70% CELU $-50.47',\n",
       "       'WBEBIDA A BASE ARROZ Y PLÁTANO LA PINTA', 'LA SERENISIKA',\n",
       "       'BEBIDA A BASE ARROZ Y KARANDA A SERENIS',\n",
       "       'BIBIDA A BASE ARROZ Y MARANJA LA SERENTS',\n",
       "       'RERING A BASE ARROZ Y NARANJA LA SERENIS', 'â\\x80¢ LA PINTA',\n",
       "       'LP JUGO $89 TRAVIATA CR $-780', 'IS JUGO', '2000 201,0000',\n",
       "       'BEBIDA A BASE PROZ Y MARAUA LA SERENIS', 'LP JUGO s',\n",
       "       'BEBIDA A BASE ARROZ Y SANDÍA LA PINTA',\n",
       "       '*BEBIDA A BASE ARROZ Y SANDÍA LA PINTA', 'LA SERENISIHA',\n",
       "       'LP JUGO $109 PUREZA HAR $-240', 'LP JUGO 25% SILISOL $-122.33',\n",
       "       '2S JUGO $169 CIF DETERG $-720', 'LP JUGO 2DA AL SOX CONS -92.50',\n",
       "       'LP JUGO la Liviana La PINTA sa', '2,0000 201,0000',\n",
       "       'LP JUGO 2DA AL 70% LP J $-140.70', '1',\n",
       "       'BEBIDA A PASE AFFUZ Y MANZANA LA SERENIS', '7793913001822 1870',\n",
       "       'LP JUDO', 'MOLTO JUG LI', '(PC) JUGO DE LIMON MENYO PET X 250 CC',\n",
       "       '(PC) JUGO DE LIMON MENOYO PET X 250 CC',\n",
       "       'JUGO C. CREC LIMONADA MEN/JEN CON STEVIA', 'MINE JGO LIM',\n",
       "       'PETIT 1000', 'CEPITA ILT', 'CEPITA 1LT',\n",
       "       'JUGO NARANJA CEPITA BOT 1000 CHO',\n",
       "       'JUGO NATURAL 25 MANZANA CEPITA X 200 CC', 'CEPITA 1.5LT',\n",
       "       'ADES 1LT', 'JUGO BASE SOJA DURAZNO ADES DURAZNO X 1', 'ADES ILT',\n",
       "       'JUGO BASE SOJA FRUTAS TROPICAL ADES X 1', 'ADES ili v 24.6500',\n",
       "       '2,0000 x 125,0000', 'JUGO BASE SOJA MANZANA ADES X 1 LT', 'TUTTI',\n",
       "       'JUGO MULTIFRUTA TUTTI TTB 1000CMQ',\n",
       "       'JUGO MULTIFRUTATUTTI TTB 200 CMQ',\n",
       "       'HUGO MULTIFRUITATUTTI TTB 200 CMO'], dtype=object)"
      ]
     },
     "execution_count": 5,
     "metadata": {},
     "output_type": "execute_result"
    }
   ],
   "source": [
    "df_.label.unique()\n",
    "\n",
    "#Veo cuales son las etiquetas que tinen los productos"
   ]
  },
  {
   "cell_type": "code",
   "execution_count": 6,
   "id": "9b09d122",
   "metadata": {},
   "outputs": [
    {
     "data": {
      "text/plain": [
       "LA PINTA                                    125\n",
       "BEBIDA A BASE ARROZ Y PLÁTANO LA PINTA      115\n",
       "LP JUGO                                      92\n",
       "BEBIDA A BASE ARROZ Y SANDÍA LA PINTA        88\n",
       "CEPITA ILT                                    3\n",
       "LP JUGO 2DA AL 70% LP J $-70.35               3\n",
       "CEPITA 1.5LT                                  3\n",
       "LA SERENISIKA                                 3\n",
       "*BEBIDA A BASE ARROZ Y SANDÍA LA PINTA        2\n",
       "LA SERENISIHA                                 2\n",
       "MINE JGO LIM                                  2\n",
       "ADES ILT                                      2\n",
       "LP JUGO 2DA AL 70% LP J $-140.70              2\n",
       "ADES 1LT                                      2\n",
       "JUGO NATURAL 25 MANZANA CEPITA X 200 CC       1\n",
       "LP JUGO la Liviana La PINTA sa                1\n",
       "JUGO MULTIFRUTA TUTTI TTB 1000CMQ             1\n",
       "LP JUGO s                                     1\n",
       "2,0000 x 125,0000                             1\n",
       "1                                             1\n",
       "LP JUGO 25% SILISOL $-122.33                  1\n",
       "LP JUGO 2DA AL 70% CELU $-50.47               1\n",
       "BIBIDA A BASE ARROZ Y MARANJA LA SERENTS      1\n",
       "MOLTO JUG LI                                  1\n",
       "PETIT 1000                                    1\n",
       "1A PINTA                                      1\n",
       "7793913001822 1870                            1\n",
       "TA PINTA                                      1\n",
       "WBEBIDA A BASE ARROZ Y PLÁTANO LA PINTA       1\n",
       "LP JUDO                                       1\n",
       "â¢ LA PINTA                                  1\n",
       "JUGO BASE SOJA FRUTAS TROPICAL ADES X 1       1\n",
       "HUGO MULTIFRUITATUTTI TTB 200 CMO             1\n",
       "BEBIDA A PASE AFFUZ Y MANZANA LA SERENIS      1\n",
       "2000 201,0000                                 1\n",
       "BEBIDA A BASE ARROZ Y NAPANA LA SERENIS       1\n",
       "JUGO NARANJA CEPITA BOT 1000 CHO              1\n",
       "BEBIDA A BASE ARROZ Y KARANDA A SERENIS       1\n",
       "JUGO BASE SOJA MANZANA ADES X 1 LT            1\n",
       "LP JUGO $89 TRAVIATA CR $-780                 1\n",
       "JUGO MULTIFRUTATUTTI TTB 200 CMQ              1\n",
       "ADES ili v 24.6500                            1\n",
       "JUGO BASE SOJA DURAZNO ADES DURAZNO X 1       1\n",
       "BUDIDA A DASI ARROZ Y NARANJA LA SERENTS      1\n",
       "JUGO C. CREC LIMONADA MEN/JEN CON STEVIA      1\n",
       "LP JUGO 2DA AL SOX CONS -92.50                1\n",
       "RERING A BASE ARROZ Y NARANJA LA SERENIS      1\n",
       "BEBIDA A BASE PROZ Y MARAUA LA SERENIS        1\n",
       "IS JUGO                                       1\n",
       "(PC) JUGO DE LIMON MENOYO PET X 250 CC        1\n",
       "2S JUGO $169 CIF DETERG $-720                 1\n",
       "CEPITA 1LT                                    1\n",
       "2,0000 201,0000                               1\n",
       "LP JUGO 20% DOLCA BANAN $100                  1\n",
       "(PC) JUGO DE LIMON MENYO PET X 250 CC         1\n",
       "TUTTI                                         1\n",
       "LP JUGO $109 PUREZA HAR $-240                 1\n",
       "Name: label, dtype: int64"
      ]
     },
     "execution_count": 6,
     "metadata": {},
     "output_type": "execute_result"
    }
   ],
   "source": [
    "df_.label.value_counts()\n",
    "\n",
    "#Veo la cantidad de productos segun la etiqueta "
   ]
  },
  {
   "cell_type": "code",
   "execution_count": 7,
   "id": "7286d81e",
   "metadata": {},
   "outputs": [
    {
     "data": {
      "text/plain": [
       "array(['LA PINTA, Jugo Vegetal Plátano 1 Lt',\n",
       "       'LA PINTA, Jugo Vegetal Sandía 1 Lt',\n",
       "       'MOLTO     JUGO  DE  LIMON     BOT.PLAST.    500 CC 7798138554023',\n",
       "       'MENOYO              JUGO      BOT.PLAST.    250 CC 7790130000713',\n",
       "       'CUARTO    CRECIENTE JUGO C/STEVIA LIMONA. 1500 CC BOT PLAS 7798083731210',\n",
       "       'MINERVA   100 %     JUGO LIMONBOT.PLAST.    500 CCECO BOT. 7790070507341',\n",
       "       'PETIT     CITRIC    NAR/MANGO/MARACUYA S/AZUCAR TET 1000ML 7798085681018',\n",
       "       'CEPITA DEL VALLE  MULTIFRUTA TETRA 1000CC 7790895647123',\n",
       "       'CEPITA    DEL VALLE NARANJA   TETRA         1000CC 7790895646560',\n",
       "       'CEPITA    DEL VALLE NARANJA   BOT.PLAST.   1000 CC 7790895009815',\n",
       "       'CEPITA    DEL VALLE JUGO      MANZANA       200 CCTETRA 7790895000720',\n",
       "       'CEPITA    DEL VALLE JUGO      DURAZ.DEL.   1500 CCBOT.PLAST. 7790895641534',\n",
       "       'CEPITA    DEL VALLE DURAZNO   BOT.PLAST.   1000 CC 7790895009846',\n",
       "       'ADES      MULTI 10  VITAMINAS DURAZNO      1000 CCTETRA 7790895643828',\n",
       "       'ADES      JUGO FRUTAS TROPICALES T.BRICK   1000 CC 7790895643866',\n",
       "       'ADES      JUGO      NARANJA   TETRA        1000 CC 7790895643842',\n",
       "       'ADES      JUGO      MANZANA   TETRA        1000 CC 7790895643835',\n",
       "       'TUTTI NARANJA VALENCIA TETRA 1LT 7798290581486',\n",
       "       'TUTTI               MULTIFRUTATETRA        1000 CC 7798290580120',\n",
       "       'TUTTI               MULTIFRUTATETRA         200 CC 7798290580113'],\n",
       "      dtype=object)"
      ]
     },
     "execution_count": 7,
     "metadata": {},
     "output_type": "execute_result"
    }
   ],
   "source": [
    "df_.descripcion.unique()\n",
    "\n",
    "#Veo cuales son las desctipciones de cada prodcuto "
   ]
  },
  {
   "cell_type": "code",
   "execution_count": 8,
   "id": "e39d513b",
   "metadata": {},
   "outputs": [
    {
     "data": {
      "text/plain": [
       "LA PINTA, Jugo Vegetal Plátano 1 Lt                                           244\n",
       "LA PINTA, Jugo Vegetal Sandía 1 Lt                                            214\n",
       "ADES      JUGO FRUTAS TROPICALES T.BRICK   1000 CC 7790895643866                5\n",
       "CEPITA    DEL VALLE JUGO      DURAZ.DEL.   1500 CCBOT.PLAST. 7790895641534      3\n",
       "TUTTI               MULTIFRUTATETRA         200 CC 7798290580113                2\n",
       "CEPITA    DEL VALLE DURAZNO   BOT.PLAST.   1000 CC 7790895009846                2\n",
       "MINERVA   100 %     JUGO LIMONBOT.PLAST.    500 CCECO BOT. 7790070507341        2\n",
       "MENOYO              JUGO      BOT.PLAST.    250 CC 7790130000713                2\n",
       "ADES      MULTI 10  VITAMINAS DURAZNO      1000 CCTETRA 7790895643828           2\n",
       "MOLTO     JUGO  DE  LIMON     BOT.PLAST.    500 CC 7798138554023                1\n",
       "ADES      JUGO      MANZANA   TETRA        1000 CC 7790895643835                1\n",
       "TUTTI               MULTIFRUTATETRA        1000 CC 7798290580120                1\n",
       "CEPITA    DEL VALLE NARANJA   BOT.PLAST.   1000 CC 7790895009815                1\n",
       "CEPITA DEL VALLE  MULTIFRUTA TETRA 1000CC 7790895647123                         1\n",
       "PETIT     CITRIC    NAR/MANGO/MARACUYA S/AZUCAR TET 1000ML 7798085681018        1\n",
       "TUTTI NARANJA VALENCIA TETRA 1LT 7798290581486                                  1\n",
       "CEPITA    DEL VALLE JUGO      MANZANA       200 CCTETRA 7790895000720           1\n",
       "CUARTO    CRECIENTE JUGO C/STEVIA LIMONA. 1500 CC BOT PLAS 7798083731210        1\n",
       "ADES      JUGO      NARANJA   TETRA        1000 CC 7790895643842                1\n",
       "CEPITA    DEL VALLE NARANJA   TETRA         1000CC 7790895646560                1\n",
       "Name: descripcion, dtype: int64"
      ]
     },
     "execution_count": 8,
     "metadata": {},
     "output_type": "execute_result"
    }
   ],
   "source": [
    "df_.descripcion.value_counts()\n",
    "\n",
    "#Veo la cantidad de prodcutos segun la descripcion"
   ]
  },
  {
   "cell_type": "code",
   "execution_count": 9,
   "id": "1676edcc",
   "metadata": {},
   "outputs": [
    {
     "name": "stdout",
     "output_type": "stream",
     "text": [
      "188\n"
     ]
    },
    {
     "data": {
      "text/plain": [
       "(188, 11)"
      ]
     },
     "execution_count": 9,
     "metadata": {},
     "output_type": "execute_result"
    }
   ],
   "source": [
    "print (df_[['cliente_id']].duplicated().sum())\n",
    "df_2 = df_.loc[df_[['cliente_id']].duplicated()]\n",
    "df_2.shape\n",
    "\n",
    "#Encuentro cuales son los clientes que volvieron a comprar en el mismo periodo"
   ]
  },
  {
   "cell_type": "code",
   "execution_count": 10,
   "id": "f03da9e4",
   "metadata": {},
   "outputs": [
    {
     "name": "stdout",
     "output_type": "stream",
     "text": [
      "(188,)\n"
     ]
    },
    {
     "data": {
      "text/plain": [
       "BEBIDA A BASE ARROZ Y SANDÍA LA PINTA       51\n",
       "LA PINTA                                    41\n",
       "LP JUGO                                     31\n",
       "BEBIDA A BASE ARROZ Y PLÁTANO LA PINTA      22\n",
       "CEPITA 1.5LT                                 3\n",
       "CEPITA ILT                                   3\n",
       "LP JUGO 2DA AL 70% LP J $-70.35              2\n",
       "LP JUGO 2DA AL 70% LP J $-140.70             2\n",
       "ADES ILT                                     2\n",
       "ADES 1LT                                     2\n",
       "*BEBIDA A BASE ARROZ Y SANDÍA LA PINTA       2\n",
       "MINE JGO LIM                                 2\n",
       "ADES ili v 24.6500                           1\n",
       "(PC) JUGO DE LIMON MENYO PET X 250 CC        1\n",
       "JUGO NARANJA CEPITA BOT 1000 CHO             1\n",
       "2,0000 x 125,0000                            1\n",
       "CEPITA 1LT                                   1\n",
       "HUGO MULTIFRUITATUTTI TTB 200 CMO            1\n",
       "MOLTO JUG LI                                 1\n",
       "BEBIDA A PASE AFFUZ Y MANZANA LA SERENIS     1\n",
       "(PC) JUGO DE LIMON MENOYO PET X 250 CC       1\n",
       "7793913001822 1870                           1\n",
       "LP JUGO la Liviana La PINTA sa               1\n",
       "PETIT 1000                                   1\n",
       "TUTTI                                        1\n",
       "JUGO MULTIFRUTATUTTI TTB 200 CMQ             1\n",
       "LP JUDO                                      1\n",
       "BEBIDA A BASE ARROZ Y KARANDA A SERENIS      1\n",
       "TA PINTA                                     1\n",
       "JUGO BASE SOJA DURAZNO ADES DURAZNO X 1      1\n",
       "JUGO BASE SOJA MANZANA ADES X 1 LT           1\n",
       "2,0000 201,0000                              1\n",
       "LP JUGO 25% SILISOL $-122.33                 1\n",
       "JUGO C. CREC LIMONADA MEN/JEN CON STEVIA     1\n",
       "JUGO MULTIFRUTA TUTTI TTB 1000CMQ            1\n",
       "JUGO BASE SOJA FRUTAS TROPICAL ADES X 1      1\n",
       "JUGO NATURAL 25 MANZANA CEPITA X 200 CC      1\n",
       "Name: label, dtype: int64"
      ]
     },
     "execution_count": 10,
     "metadata": {},
     "output_type": "execute_result"
    }
   ],
   "source": [
    "print (df_2.label.shape)\n",
    "df_2.label.value_counts()\n",
    "\n",
    "#Veo la cantidad de prodcutos segun la etiqueta"
   ]
  },
  {
   "cell_type": "code",
   "execution_count": 11,
   "id": "eaae79f8",
   "metadata": {},
   "outputs": [
    {
     "name": "stdout",
     "output_type": "stream",
     "text": [
      "(188,)\n"
     ]
    },
    {
     "data": {
      "text/plain": [
       "LA PINTA, Jugo Vegetal Sandía 1 Lt                                            123\n",
       "LA PINTA, Jugo Vegetal Plátano 1 Lt                                            36\n",
       "ADES      JUGO FRUTAS TROPICALES T.BRICK   1000 CC 7790895643866                5\n",
       "CEPITA    DEL VALLE JUGO      DURAZ.DEL.   1500 CCBOT.PLAST. 7790895641534      3\n",
       "CEPITA    DEL VALLE DURAZNO   BOT.PLAST.   1000 CC 7790895009846                2\n",
       "TUTTI               MULTIFRUTATETRA         200 CC 7798290580113                2\n",
       "ADES      MULTI 10  VITAMINAS DURAZNO      1000 CCTETRA 7790895643828           2\n",
       "MENOYO              JUGO      BOT.PLAST.    250 CC 7790130000713                2\n",
       "MINERVA   100 %     JUGO LIMONBOT.PLAST.    500 CCECO BOT. 7790070507341        2\n",
       "CEPITA    DEL VALLE NARANJA   BOT.PLAST.   1000 CC 7790895009815                1\n",
       "TUTTI NARANJA VALENCIA TETRA 1LT 7798290581486                                  1\n",
       "PETIT     CITRIC    NAR/MANGO/MARACUYA S/AZUCAR TET 1000ML 7798085681018        1\n",
       "CEPITA DEL VALLE  MULTIFRUTA TETRA 1000CC 7790895647123                         1\n",
       "CEPITA    DEL VALLE JUGO      MANZANA       200 CCTETRA 7790895000720           1\n",
       "MOLTO     JUGO  DE  LIMON     BOT.PLAST.    500 CC 7798138554023                1\n",
       "ADES      JUGO      MANZANA   TETRA        1000 CC 7790895643835                1\n",
       "CUARTO    CRECIENTE JUGO C/STEVIA LIMONA. 1500 CC BOT PLAS 7798083731210        1\n",
       "TUTTI               MULTIFRUTATETRA        1000 CC 7798290580120                1\n",
       "ADES      JUGO      NARANJA   TETRA        1000 CC 7790895643842                1\n",
       "CEPITA    DEL VALLE NARANJA   TETRA         1000CC 7790895646560                1\n",
       "Name: descripcion, dtype: int64"
      ]
     },
     "execution_count": 11,
     "metadata": {},
     "output_type": "execute_result"
    }
   ],
   "source": [
    "print (df_2.descripcion.shape)\n",
    "df_2.descripcion.value_counts()\n",
    "\n",
    "#Veo la cantidad de productos segun la descripcion"
   ]
  },
  {
   "cell_type": "code",
   "execution_count": 12,
   "id": "86aa38ab",
   "metadata": {},
   "outputs": [
    {
     "data": {
      "text/plain": [
       "8"
      ]
     },
     "execution_count": 12,
     "metadata": {},
     "output_type": "execute_result"
    }
   ],
   "source": [
    "df_2.duplicated().sum()\n",
    "\n",
    "#Puedo ver que en una 3er instancia 8 personas volvieron a comprar en el mismo periodo"
   ]
  },
  {
   "cell_type": "code",
   "execution_count": 13,
   "id": "48168552",
   "metadata": {},
   "outputs": [
    {
     "data": {
      "text/plain": [
       "LA PINTA, Jugo Vegetal Sandía 1 Lt                                            4\n",
       "CEPITA    DEL VALLE DURAZNO   BOT.PLAST.   1000 CC 7790895009846              1\n",
       "LA PINTA, Jugo Vegetal Plátano 1 Lt                                           1\n",
       "MINERVA   100 %     JUGO LIMONBOT.PLAST.    500 CCECO BOT. 7790070507341      1\n",
       "CEPITA    DEL VALLE JUGO      DURAZ.DEL.   1500 CCBOT.PLAST. 7790895641534    1\n",
       "Name: descripcion, dtype: int64"
      ]
     },
     "execution_count": 13,
     "metadata": {},
     "output_type": "execute_result"
    }
   ],
   "source": [
    "df_2.loc[df_2.duplicated()].descripcion.value_counts()"
   ]
  },
  {
   "cell_type": "code",
   "execution_count": 14,
   "id": "3357cdda",
   "metadata": {},
   "outputs": [
    {
     "data": {
      "text/plain": [
       "0"
      ]
     },
     "execution_count": 14,
     "metadata": {},
     "output_type": "execute_result"
    }
   ],
   "source": [
    "df_3 = df_2.drop_duplicates()\n",
    "df_3.duplicated().sum()\n",
    "\n",
    "#No necesito volver a analizar si existen duplicados"
   ]
  },
  {
   "cell_type": "code",
   "execution_count": 15,
   "id": "9a1ebf32",
   "metadata": {},
   "outputs": [],
   "source": [
    "df_q = df.groupby(['cliente_id', 'descripcion', 'quantity'] , as_index=False).sum()[['cliente_id', 'descripcion', 'quantity']]\n",
    "\n",
    "#Analizo que cantidad de prodcutos compra cada usuario "
   ]
  },
  {
   "cell_type": "code",
   "execution_count": 16,
   "id": "c6be5e95",
   "metadata": {},
   "outputs": [
    {
     "data": {
      "text/html": [
       "<div>\n",
       "<style scoped>\n",
       "    .dataframe tbody tr th:only-of-type {\n",
       "        vertical-align: middle;\n",
       "    }\n",
       "\n",
       "    .dataframe tbody tr th {\n",
       "        vertical-align: top;\n",
       "    }\n",
       "\n",
       "    .dataframe thead th {\n",
       "        text-align: right;\n",
       "    }\n",
       "</style>\n",
       "<table border=\"1\" class=\"dataframe\">\n",
       "  <thead>\n",
       "    <tr style=\"text-align: right;\">\n",
       "      <th></th>\n",
       "      <th>cliente_id</th>\n",
       "      <th>descripcion</th>\n",
       "      <th>quantity</th>\n",
       "    </tr>\n",
       "  </thead>\n",
       "  <tbody>\n",
       "    <tr>\n",
       "      <th>2</th>\n",
       "      <td>1019202</td>\n",
       "      <td>LA PINTA, Jugo Vegetal Sandía 1 Lt</td>\n",
       "      <td>1</td>\n",
       "    </tr>\n",
       "    <tr>\n",
       "      <th>28</th>\n",
       "      <td>1021254</td>\n",
       "      <td>LA PINTA, Jugo Vegetal Sandía 1 Lt</td>\n",
       "      <td>2</td>\n",
       "    </tr>\n",
       "    <tr>\n",
       "      <th>62</th>\n",
       "      <td>1023163</td>\n",
       "      <td>LA PINTA, Jugo Vegetal Sandía 1 Lt</td>\n",
       "      <td>1</td>\n",
       "    </tr>\n",
       "    <tr>\n",
       "      <th>69</th>\n",
       "      <td>1025990</td>\n",
       "      <td>LA PINTA, Jugo Vegetal Sandía 1 Lt</td>\n",
       "      <td>2</td>\n",
       "    </tr>\n",
       "    <tr>\n",
       "      <th>77</th>\n",
       "      <td>1029892</td>\n",
       "      <td>LA PINTA, Jugo Vegetal Sandía 1 Lt</td>\n",
       "      <td>1</td>\n",
       "    </tr>\n",
       "    <tr>\n",
       "      <th>...</th>\n",
       "      <td>...</td>\n",
       "      <td>...</td>\n",
       "      <td>...</td>\n",
       "    </tr>\n",
       "    <tr>\n",
       "      <th>3108</th>\n",
       "      <td>102526066</td>\n",
       "      <td>LA PINTA, Jugo Vegetal Sandía 1 Lt</td>\n",
       "      <td>2</td>\n",
       "    </tr>\n",
       "    <tr>\n",
       "      <th>3118</th>\n",
       "      <td>102528640</td>\n",
       "      <td>LA PINTA, Jugo Vegetal Sandía 1 Lt</td>\n",
       "      <td>1</td>\n",
       "    </tr>\n",
       "    <tr>\n",
       "      <th>3130</th>\n",
       "      <td>102540784</td>\n",
       "      <td>LA PINTA, Jugo Vegetal Sandía 1 Lt</td>\n",
       "      <td>1</td>\n",
       "    </tr>\n",
       "    <tr>\n",
       "      <th>3154</th>\n",
       "      <td>102545236</td>\n",
       "      <td>LA PINTA, Jugo Vegetal Sandía 1 Lt</td>\n",
       "      <td>1</td>\n",
       "    </tr>\n",
       "    <tr>\n",
       "      <th>3166</th>\n",
       "      <td>102552526</td>\n",
       "      <td>LA PINTA, Jugo Vegetal Sandía 1 Lt</td>\n",
       "      <td>2</td>\n",
       "    </tr>\n",
       "  </tbody>\n",
       "</table>\n",
       "<p>183 rows × 3 columns</p>\n",
       "</div>"
      ],
      "text/plain": [
       "      cliente_id                         descripcion  quantity\n",
       "2        1019202  LA PINTA, Jugo Vegetal Sandía 1 Lt         1\n",
       "28       1021254  LA PINTA, Jugo Vegetal Sandía 1 Lt         2\n",
       "62       1023163  LA PINTA, Jugo Vegetal Sandía 1 Lt         1\n",
       "69       1025990  LA PINTA, Jugo Vegetal Sandía 1 Lt         2\n",
       "77       1029892  LA PINTA, Jugo Vegetal Sandía 1 Lt         1\n",
       "...          ...                                 ...       ...\n",
       "3108   102526066  LA PINTA, Jugo Vegetal Sandía 1 Lt         2\n",
       "3118   102528640  LA PINTA, Jugo Vegetal Sandía 1 Lt         1\n",
       "3130   102540784  LA PINTA, Jugo Vegetal Sandía 1 Lt         1\n",
       "3154   102545236  LA PINTA, Jugo Vegetal Sandía 1 Lt         1\n",
       "3166   102552526  LA PINTA, Jugo Vegetal Sandía 1 Lt         2\n",
       "\n",
       "[183 rows x 3 columns]"
      ]
     },
     "execution_count": 16,
     "metadata": {},
     "output_type": "execute_result"
    }
   ],
   "source": [
    "df_q2 = df_q.loc[df_q.descripcion == 'LA PINTA, Jugo Vegetal Sandía 1 Lt']\n",
    "df_q2\n",
    "\n",
    "#Analizo para el sabor Sandia "
   ]
  },
  {
   "cell_type": "code",
   "execution_count": 17,
   "id": "e55ac022",
   "metadata": {},
   "outputs": [
    {
     "data": {
      "text/plain": [
       "array([  1,   2,   1,   2,   1,   1,   1,   2,   1,   2,   1,   1,   1,\n",
       "         2,   2,   1,   1,   1,   1,   1,  11,   1,   2,   1,   1,   2,\n",
       "         1,   1,   1,   1,   2,   2,   1,   1,   1,   2,   1,   1,   1,\n",
       "         2,   1,   1,   1,   1,   1,   1,   1,   1,   1,   1,   2,   1,\n",
       "         1,   1,   1,   2,   1,   2,   2,   1,   1,   1,   1,   1,   1,\n",
       "         1,   2,   1,   1,   1,   1,   1,   1,   1,   1,   1,   1,   1,\n",
       "         2,   1,   1,   2,   1,   2,   1,   1,   1,   2,   1,   1,   1,\n",
       "         2,   2,   1,   1,   2,   1,   1,   2,   1,   2,   1,   1,   1,\n",
       "         1,   1,   1,   1,   1,   1,   1,   2,   1, 891,   1,   1,   1,\n",
       "         1,   2,   2,   1,   2,   2,   2,   2,   2,   2,   2,   1,   2,\n",
       "         1,   1,   2,   1,   2,   1,   2,   1,   1,   1,   1,   2,   1,\n",
       "         1,   2,   2,   1,   1,   1,   2,   2,   2,   1,   1,   1,   2,\n",
       "         1,   2,   1,   1,   1,   1,   1,   2,   1,   1,   1,   1,   1,\n",
       "         1,   1,   1,   2,   1,   1,   1,   1,   2,   2,   1,   1,   1,\n",
       "         2], dtype=int64)"
      ]
     },
     "execution_count": 17,
     "metadata": {},
     "output_type": "execute_result"
    }
   ],
   "source": [
    "df_q2 = df_q2.reset_index(drop = True)\n",
    "df_q2.quantity.values"
   ]
  },
  {
   "cell_type": "code",
   "execution_count": 18,
   "id": "e0c08d28",
   "metadata": {},
   "outputs": [
    {
     "data": {
      "text/plain": [
       "1      128\n",
       "2       53\n",
       "891      1\n",
       "11       1\n",
       "Name: quantity, dtype: int64"
      ]
     },
     "execution_count": 18,
     "metadata": {},
     "output_type": "execute_result"
    }
   ],
   "source": [
    "df_q2.quantity.value_counts()\n",
    "\n",
    "#Puedo identificar valores extraños "
   ]
  },
  {
   "cell_type": "code",
   "execution_count": 19,
   "id": "3ab5d2ee",
   "metadata": {},
   "outputs": [
    {
     "name": "stdout",
     "output_type": "stream",
     "text": [
      "     cliente_id                         descripcion  quantity\n",
      "113   101936783  LA PINTA, Jugo Vegetal Sandía 1 Lt       891\n",
      "    cliente_id                         descripcion  quantity\n",
      "20     1050434  LA PINTA, Jugo Vegetal Sandía 1 Lt        11\n"
     ]
    }
   ],
   "source": [
    "print (df_q2[df_q2.quantity == 891])\n",
    "print (df_q2[df_q2.quantity == 11])"
   ]
  },
  {
   "cell_type": "code",
   "execution_count": 20,
   "id": "366b275e",
   "metadata": {},
   "outputs": [
    {
     "data": {
      "text/html": [
       "<div>\n",
       "<style scoped>\n",
       "    .dataframe tbody tr th:only-of-type {\n",
       "        vertical-align: middle;\n",
       "    }\n",
       "\n",
       "    .dataframe tbody tr th {\n",
       "        vertical-align: top;\n",
       "    }\n",
       "\n",
       "    .dataframe thead th {\n",
       "        text-align: right;\n",
       "    }\n",
       "</style>\n",
       "<table border=\"1\" class=\"dataframe\">\n",
       "  <thead>\n",
       "    <tr style=\"text-align: right;\">\n",
       "      <th></th>\n",
       "      <th>cliente_id</th>\n",
       "      <th>descripcion</th>\n",
       "      <th>quantity</th>\n",
       "    </tr>\n",
       "  </thead>\n",
       "  <tbody>\n",
       "    <tr>\n",
       "      <th>12</th>\n",
       "      <td>1019362</td>\n",
       "      <td>LA PINTA, Jugo Vegetal Plátano 1 Lt</td>\n",
       "      <td>1</td>\n",
       "    </tr>\n",
       "    <tr>\n",
       "      <th>19</th>\n",
       "      <td>1019685</td>\n",
       "      <td>LA PINTA, Jugo Vegetal Plátano 1 Lt</td>\n",
       "      <td>1</td>\n",
       "    </tr>\n",
       "    <tr>\n",
       "      <th>22</th>\n",
       "      <td>1020725</td>\n",
       "      <td>LA PINTA, Jugo Vegetal Plátano 1 Lt</td>\n",
       "      <td>2</td>\n",
       "    </tr>\n",
       "    <tr>\n",
       "      <th>23</th>\n",
       "      <td>1021133</td>\n",
       "      <td>LA PINTA, Jugo Vegetal Plátano 1 Lt</td>\n",
       "      <td>2</td>\n",
       "    </tr>\n",
       "    <tr>\n",
       "      <th>27</th>\n",
       "      <td>1021254</td>\n",
       "      <td>LA PINTA, Jugo Vegetal Plátano 1 Lt</td>\n",
       "      <td>1</td>\n",
       "    </tr>\n",
       "    <tr>\n",
       "      <th>...</th>\n",
       "      <td>...</td>\n",
       "      <td>...</td>\n",
       "      <td>...</td>\n",
       "    </tr>\n",
       "    <tr>\n",
       "      <th>3081</th>\n",
       "      <td>102512890</td>\n",
       "      <td>LA PINTA, Jugo Vegetal Plátano 1 Lt</td>\n",
       "      <td>1</td>\n",
       "    </tr>\n",
       "    <tr>\n",
       "      <th>3096</th>\n",
       "      <td>102515245</td>\n",
       "      <td>LA PINTA, Jugo Vegetal Plátano 1 Lt</td>\n",
       "      <td>2</td>\n",
       "    </tr>\n",
       "    <tr>\n",
       "      <th>3107</th>\n",
       "      <td>102526066</td>\n",
       "      <td>LA PINTA, Jugo Vegetal Plátano 1 Lt</td>\n",
       "      <td>2</td>\n",
       "    </tr>\n",
       "    <tr>\n",
       "      <th>3122</th>\n",
       "      <td>102535921</td>\n",
       "      <td>LA PINTA, Jugo Vegetal Plátano 1 Lt</td>\n",
       "      <td>1</td>\n",
       "    </tr>\n",
       "    <tr>\n",
       "      <th>3174</th>\n",
       "      <td>102556849</td>\n",
       "      <td>LA PINTA, Jugo Vegetal Plátano 1 Lt</td>\n",
       "      <td>1</td>\n",
       "    </tr>\n",
       "  </tbody>\n",
       "</table>\n",
       "<p>212 rows × 3 columns</p>\n",
       "</div>"
      ],
      "text/plain": [
       "      cliente_id                          descripcion  quantity\n",
       "12       1019362  LA PINTA, Jugo Vegetal Plátano 1 Lt         1\n",
       "19       1019685  LA PINTA, Jugo Vegetal Plátano 1 Lt         1\n",
       "22       1020725  LA PINTA, Jugo Vegetal Plátano 1 Lt         2\n",
       "23       1021133  LA PINTA, Jugo Vegetal Plátano 1 Lt         2\n",
       "27       1021254  LA PINTA, Jugo Vegetal Plátano 1 Lt         1\n",
       "...          ...                                  ...       ...\n",
       "3081   102512890  LA PINTA, Jugo Vegetal Plátano 1 Lt         1\n",
       "3096   102515245  LA PINTA, Jugo Vegetal Plátano 1 Lt         2\n",
       "3107   102526066  LA PINTA, Jugo Vegetal Plátano 1 Lt         2\n",
       "3122   102535921  LA PINTA, Jugo Vegetal Plátano 1 Lt         1\n",
       "3174   102556849  LA PINTA, Jugo Vegetal Plátano 1 Lt         1\n",
       "\n",
       "[212 rows x 3 columns]"
      ]
     },
     "execution_count": 20,
     "metadata": {},
     "output_type": "execute_result"
    }
   ],
   "source": [
    "df_q3 = df_q.loc[df_q.descripcion == 'LA PINTA, Jugo Vegetal Plátano 1 Lt']\n",
    "df_q3\n",
    "\n",
    "#Analizo para el sabor Platano"
   ]
  },
  {
   "cell_type": "code",
   "execution_count": 21,
   "id": "8b2a9fbb",
   "metadata": {},
   "outputs": [
    {
     "data": {
      "text/plain": [
       "1      146\n",
       "2       64\n",
       "201      1\n",
       "11       1\n",
       "Name: quantity, dtype: int64"
      ]
     },
     "execution_count": 21,
     "metadata": {},
     "output_type": "execute_result"
    }
   ],
   "source": [
    "df_q3 = df_q3.reset_index(drop = True)\n",
    "df_q3.quantity.value_counts()"
   ]
  },
  {
   "cell_type": "code",
   "execution_count": 22,
   "id": "844037f6",
   "metadata": {},
   "outputs": [
    {
     "data": {
      "text/plain": [
       "array([  1,   1,   2,   2,   1,   1,   1,   2,   1,   1,   1,   1,   1,\n",
       "         2,   2,   1,   1,   1,   1,   1,   1,   2,   2,   1,   1,   2,\n",
       "         2,   1,   1,   1,  11,   2,   1,   1,   2,   1,   2,   2,   2,\n",
       "         1,   2,   1,   1,   1,   2,   1,   1,   1,   1,   2,   1,   1,\n",
       "         1,   1,   1,   1,   2,   1,   1,   1,   2,   1,   1,   1,   1,\n",
       "         2,   2,   1,   1,   1,   1,   1,   1,   1,   1,   1,   1,   1,\n",
       "         1,   1,   1,   2,   2,   1,   1,   1,   1,   2,   1,   1,   1,\n",
       "         1,   2,   1,   1,   1,   1,   1,   1,   2,   2,   2,   1,   1,\n",
       "         1,   1,   1,   1,   2,   2,   2,   1,   1,   2,   2,   2,   1,\n",
       "         1,   1,   2,   1,   1,   1,   1,   1,   1,   1,   1,   1,   2,\n",
       "         2,   2,   1,   1,   1,   1,   1,   2,   1,   2,   1,   2,   1,\n",
       "         1,   2,   1,   1,   2,   2,   2,   2,   2,   2,   1,   1,   1,\n",
       "         2,   2,   1,   2,   1,   2,   2,   1,   2,   1,   1, 201,   1,\n",
       "         1,   1,   2,   1,   1,   1,   1,   1,   1,   1,   1,   1,   1,\n",
       "         2,   1,   1,   2,   1,   1,   1,   1,   1,   1,   1,   2,   1,\n",
       "         1,   2,   1,   1,   2,   1,   2,   1,   1,   1,   2,   1,   1,\n",
       "         2,   2,   1,   1], dtype=int64)"
      ]
     },
     "execution_count": 22,
     "metadata": {},
     "output_type": "execute_result"
    }
   ],
   "source": [
    "df_q3.quantity.values"
   ]
  },
  {
   "cell_type": "code",
   "execution_count": 23,
   "id": "496728eb",
   "metadata": {},
   "outputs": [
    {
     "name": "stdout",
     "output_type": "stream",
     "text": [
      "     cliente_id                          descripcion  quantity\n",
      "167   102132654  LA PINTA, Jugo Vegetal Plátano 1 Lt       201\n",
      "    cliente_id                          descripcion  quantity\n",
      "30     1050434  LA PINTA, Jugo Vegetal Plátano 1 Lt        11\n"
     ]
    }
   ],
   "source": [
    "print (df_q3[df_q3.quantity == 201])\n",
    "print (df_q3[df_q3.quantity == 11])\n",
    "\n",
    "#Puedo identificar valores extraños "
   ]
  },
  {
   "cell_type": "code",
   "execution_count": null,
   "id": "09699c5a",
   "metadata": {},
   "outputs": [],
   "source": []
  }
 ],
 "metadata": {
  "kernelspec": {
   "display_name": "Python [conda env:dhdsblend2021] *",
   "language": "python",
   "name": "conda-env-dhdsblend2021-py"
  },
  "language_info": {
   "codemirror_mode": {
    "name": "ipython",
    "version": 3
   },
   "file_extension": ".py",
   "mimetype": "text/x-python",
   "name": "python",
   "nbconvert_exporter": "python",
   "pygments_lexer": "ipython3",
   "version": "3.8.11"
  }
 },
 "nbformat": 4,
 "nbformat_minor": 5
}
