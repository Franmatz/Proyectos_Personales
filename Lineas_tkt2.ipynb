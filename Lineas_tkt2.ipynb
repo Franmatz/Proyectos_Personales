{
 "cells": [
  {
   "cell_type": "code",
   "execution_count": 1,
   "id": "76ea0653",
   "metadata": {},
   "outputs": [],
   "source": [
    "import pandas as pd\n",
    "import numpy as np\n",
    "import matplotlib.pyplot as plt\n",
    "import seaborn as sns"
   ]
  },
  {
   "cell_type": "code",
   "execution_count": 2,
   "id": "16f3cadb",
   "metadata": {},
   "outputs": [
    {
     "data": {
      "text/html": [
       "<div>\n",
       "<style scoped>\n",
       "    .dataframe tbody tr th:only-of-type {\n",
       "        vertical-align: middle;\n",
       "    }\n",
       "\n",
       "    .dataframe tbody tr th {\n",
       "        vertical-align: top;\n",
       "    }\n",
       "\n",
       "    .dataframe thead th {\n",
       "        text-align: right;\n",
       "    }\n",
       "</style>\n",
       "<table border=\"1\" class=\"dataframe\">\n",
       "  <thead>\n",
       "    <tr style=\"text-align: right;\">\n",
       "      <th></th>\n",
       "      <th>ticket_id</th>\n",
       "      <th>cliente_id</th>\n",
       "      <th>categoria_gelt</th>\n",
       "      <th>subcategoria</th>\n",
       "      <th>product_code</th>\n",
       "      <th>unit_price</th>\n",
       "      <th>total_price</th>\n",
       "      <th>quantity</th>\n",
       "      <th>label</th>\n",
       "      <th>shop_name</th>\n",
       "      <th>descripcion</th>\n",
       "    </tr>\n",
       "  </thead>\n",
       "  <tbody>\n",
       "    <tr>\n",
       "      <th>0</th>\n",
       "      <td>3319357</td>\n",
       "      <td>1054305</td>\n",
       "      <td>Bebida sin alcohol</td>\n",
       "      <td>AGUAS MINERALES, SODAS Y AGUAS POTABLES</td>\n",
       "      <td>7,79806E+12</td>\n",
       "      <td>1</td>\n",
       "      <td>79,59</td>\n",
       "      <td>1</td>\n",
       "      <td>AGUA SER</td>\n",
       "      <td>COTO</td>\n",
       "      <td>SER MINERAL S/GAS BOT. PLAST. 2.25LT 779806254...</td>\n",
       "    </tr>\n",
       "    <tr>\n",
       "      <th>1</th>\n",
       "      <td>3445282</td>\n",
       "      <td>102030325</td>\n",
       "      <td>Bebida sin alcohol</td>\n",
       "      <td>AGUAS MINERALES, SODAS Y AGUAS POTABLES</td>\n",
       "      <td>7,79806E+12</td>\n",
       "      <td>1</td>\n",
       "      <td>83,97</td>\n",
       "      <td>1</td>\n",
       "      <td>EAGUA SER</td>\n",
       "      <td>COTO</td>\n",
       "      <td>SER MINERAL S/GAS BOT. PLAST. 2.25LT 779806254...</td>\n",
       "    </tr>\n",
       "    <tr>\n",
       "      <th>2</th>\n",
       "      <td>3249058</td>\n",
       "      <td>1079760</td>\n",
       "      <td>Bebida sin alcohol</td>\n",
       "      <td>AGUAS MINERALES, SODAS Y AGUAS POTABLES</td>\n",
       "      <td>7,79806E+12</td>\n",
       "      <td>83,97</td>\n",
       "      <td>83,97</td>\n",
       "      <td>1</td>\n",
       "      <td>AGUA MINERAL SIN GAS SER SIN TACC X 2.25</td>\n",
       "      <td>CARREFOUR</td>\n",
       "      <td>SER MINERAL S/GAS BOT. PLAST. 2.25LT 779806254...</td>\n",
       "    </tr>\n",
       "    <tr>\n",
       "      <th>3</th>\n",
       "      <td>3799993</td>\n",
       "      <td>102709717</td>\n",
       "      <td>Bebida sin alcohol</td>\n",
       "      <td>AGUAS MINERALES, SODAS Y AGUAS POTABLES</td>\n",
       "      <td>7,79806E+12</td>\n",
       "      <td>96</td>\n",
       "      <td>192</td>\n",
       "      <td>2</td>\n",
       "      <td>AGUA MINERAL SIN GAS VILLA DEL SUR PET X</td>\n",
       "      <td>CARREFOUR</td>\n",
       "      <td>VILLA DEL SUR       NATURAL   NO GASIFI.2250 C...</td>\n",
       "    </tr>\n",
       "    <tr>\n",
       "      <th>4</th>\n",
       "      <td>3409627</td>\n",
       "      <td>1052951</td>\n",
       "      <td>Bebida sin alcohol</td>\n",
       "      <td>AGUAS MINERALES, SODAS Y AGUAS POTABLES</td>\n",
       "      <td>7,79806E+12</td>\n",
       "      <td>2</td>\n",
       "      <td>463,8</td>\n",
       "      <td>2</td>\n",
       "      <td>AGUA MINERAL SIN GAS VILLADEL SUR BID 6.25 LTR</td>\n",
       "      <td>COTO</td>\n",
       "      <td>VILLA DEL SUR       NATURAL   S/GAS        625...</td>\n",
       "    </tr>\n",
       "    <tr>\n",
       "      <th>...</th>\n",
       "      <td>...</td>\n",
       "      <td>...</td>\n",
       "      <td>...</td>\n",
       "      <td>...</td>\n",
       "      <td>...</td>\n",
       "      <td>...</td>\n",
       "      <td>...</td>\n",
       "      <td>...</td>\n",
       "      <td>...</td>\n",
       "      <td>...</td>\n",
       "      <td>...</td>\n",
       "    </tr>\n",
       "    <tr>\n",
       "      <th>4915</th>\n",
       "      <td>3858652</td>\n",
       "      <td>101966821</td>\n",
       "      <td>Bebida sin alcohol</td>\n",
       "      <td>JUGOS LISTOS P/BEBER</td>\n",
       "      <td>7,79074E+12</td>\n",
       "      <td>202</td>\n",
       "      <td>404</td>\n",
       "      <td>2</td>\n",
       "      <td>BEBIDA A BASE ARROZ Y NARANJA LA SERENIS</td>\n",
       "      <td>CARREFOUR</td>\n",
       "      <td>LA PINTA, Jugo Vegetal Plátano 1 Lt</td>\n",
       "    </tr>\n",
       "    <tr>\n",
       "      <th>4916</th>\n",
       "      <td>3858652</td>\n",
       "      <td>101966821</td>\n",
       "      <td>Bebida sin alcohol</td>\n",
       "      <td>JUGOS LISTOS P/BEBER</td>\n",
       "      <td>7,79074E+12</td>\n",
       "      <td>202</td>\n",
       "      <td>404</td>\n",
       "      <td>2</td>\n",
       "      <td>BEBIDA A BASE ARROZ Y NARANJA LA SERENIS</td>\n",
       "      <td>CARREFOUR</td>\n",
       "      <td>LA PINTA, Jugo Vegetal Plátano 1 Lt</td>\n",
       "    </tr>\n",
       "    <tr>\n",
       "      <th>4917</th>\n",
       "      <td>3856072</td>\n",
       "      <td>1032177</td>\n",
       "      <td>Bebida con alcohol</td>\n",
       "      <td>CERVEZAS</td>\n",
       "      <td>7,7928E+12</td>\n",
       "      <td>146,5</td>\n",
       "      <td>293</td>\n",
       "      <td>2</td>\n",
       "      <td>CERVEZA BLANCA QUILMES DOBLE MALTA LATA</td>\n",
       "      <td>CARREFOUR</td>\n",
       "      <td>QUILMES DOBLE MALTA 410 CC</td>\n",
       "    </tr>\n",
       "    <tr>\n",
       "      <th>4918</th>\n",
       "      <td>3803143</td>\n",
       "      <td>101923631</td>\n",
       "      <td>Bebida con alcohol</td>\n",
       "      <td>CERVEZAS</td>\n",
       "      <td>7,7928E+12</td>\n",
       "      <td>125,8</td>\n",
       "      <td>125,8</td>\n",
       "      <td>1</td>\n",
       "      <td>CERVEZA BLANCA QUILMES DOBLE MALTA LATA</td>\n",
       "      <td>CARREFOUR</td>\n",
       "      <td>QUILMES DOBLE MALTA 410 CC</td>\n",
       "    </tr>\n",
       "    <tr>\n",
       "      <th>4919</th>\n",
       "      <td>3470422</td>\n",
       "      <td>102087747</td>\n",
       "      <td>Bebida con alcohol</td>\n",
       "      <td>CERVEZAS</td>\n",
       "      <td>7,7928E+11</td>\n",
       "      <td>216</td>\n",
       "      <td>216</td>\n",
       "      <td>1</td>\n",
       "      <td>CERV.DOB MALTA LA</td>\n",
       "      <td>LA ANONIMA</td>\n",
       "      <td>QUILMES DOBLE MALTA 410 CC</td>\n",
       "    </tr>\n",
       "  </tbody>\n",
       "</table>\n",
       "<p>4920 rows × 11 columns</p>\n",
       "</div>"
      ],
      "text/plain": [
       "      ticket_id  cliente_id      categoria_gelt  \\\n",
       "0       3319357     1054305  Bebida sin alcohol   \n",
       "1       3445282   102030325  Bebida sin alcohol   \n",
       "2       3249058     1079760  Bebida sin alcohol   \n",
       "3       3799993   102709717  Bebida sin alcohol   \n",
       "4       3409627     1052951  Bebida sin alcohol   \n",
       "...         ...         ...                 ...   \n",
       "4915    3858652   101966821  Bebida sin alcohol   \n",
       "4916    3858652   101966821  Bebida sin alcohol   \n",
       "4917    3856072     1032177  Bebida con alcohol   \n",
       "4918    3803143   101923631  Bebida con alcohol   \n",
       "4919    3470422   102087747  Bebida con alcohol   \n",
       "\n",
       "                                 subcategoria product_code unit_price  \\\n",
       "0     AGUAS MINERALES, SODAS Y AGUAS POTABLES  7,79806E+12          1   \n",
       "1     AGUAS MINERALES, SODAS Y AGUAS POTABLES  7,79806E+12          1   \n",
       "2     AGUAS MINERALES, SODAS Y AGUAS POTABLES  7,79806E+12      83,97   \n",
       "3     AGUAS MINERALES, SODAS Y AGUAS POTABLES  7,79806E+12         96   \n",
       "4     AGUAS MINERALES, SODAS Y AGUAS POTABLES  7,79806E+12          2   \n",
       "...                                       ...          ...        ...   \n",
       "4915                     JUGOS LISTOS P/BEBER  7,79074E+12        202   \n",
       "4916                     JUGOS LISTOS P/BEBER  7,79074E+12        202   \n",
       "4917                                 CERVEZAS   7,7928E+12      146,5   \n",
       "4918                                 CERVEZAS   7,7928E+12      125,8   \n",
       "4919                                 CERVEZAS   7,7928E+11        216   \n",
       "\n",
       "     total_price  quantity                                           label  \\\n",
       "0          79,59         1                                        AGUA SER   \n",
       "1          83,97         1                                       EAGUA SER   \n",
       "2          83,97         1        AGUA MINERAL SIN GAS SER SIN TACC X 2.25   \n",
       "3            192         2        AGUA MINERAL SIN GAS VILLA DEL SUR PET X   \n",
       "4          463,8         2  AGUA MINERAL SIN GAS VILLADEL SUR BID 6.25 LTR   \n",
       "...          ...       ...                                             ...   \n",
       "4915         404         2        BEBIDA A BASE ARROZ Y NARANJA LA SERENIS   \n",
       "4916         404         2        BEBIDA A BASE ARROZ Y NARANJA LA SERENIS   \n",
       "4917         293         2         CERVEZA BLANCA QUILMES DOBLE MALTA LATA   \n",
       "4918       125,8         1         CERVEZA BLANCA QUILMES DOBLE MALTA LATA   \n",
       "4919         216         1                               CERV.DOB MALTA LA   \n",
       "\n",
       "       shop_name                                        descripcion  \n",
       "0           COTO  SER MINERAL S/GAS BOT. PLAST. 2.25LT 779806254...  \n",
       "1           COTO  SER MINERAL S/GAS BOT. PLAST. 2.25LT 779806254...  \n",
       "2      CARREFOUR  SER MINERAL S/GAS BOT. PLAST. 2.25LT 779806254...  \n",
       "3      CARREFOUR  VILLA DEL SUR       NATURAL   NO GASIFI.2250 C...  \n",
       "4           COTO  VILLA DEL SUR       NATURAL   S/GAS        625...  \n",
       "...          ...                                                ...  \n",
       "4915   CARREFOUR                LA PINTA, Jugo Vegetal Plátano 1 Lt  \n",
       "4916   CARREFOUR                LA PINTA, Jugo Vegetal Plátano 1 Lt  \n",
       "4917   CARREFOUR                         QUILMES DOBLE MALTA 410 CC  \n",
       "4918   CARREFOUR                         QUILMES DOBLE MALTA 410 CC  \n",
       "4919  LA ANONIMA                         QUILMES DOBLE MALTA 410 CC  \n",
       "\n",
       "[4920 rows x 11 columns]"
      ]
     },
     "execution_count": 2,
     "metadata": {},
     "output_type": "execute_result"
    }
   ],
   "source": [
    "##Importo los datos correspondientes a la Data de cada línea de artículo dentro de los tickets de la fase 1 de la campaña\n",
    "    #Pasamos de un Excel a un CSV\n",
    "    \n",
    "df = pd.read_csv('Lineas_tkt2.csv', sep = ';' , encoding = 'latin-1')\n",
    "df"
   ]
  },
  {
   "cell_type": "code",
   "execution_count": 3,
   "id": "af87e943",
   "metadata": {},
   "outputs": [
    {
     "data": {
      "text/plain": [
       "(4920, 11)"
      ]
     },
     "execution_count": 3,
     "metadata": {},
     "output_type": "execute_result"
    }
   ],
   "source": [
    "df.shape\n",
    "\n",
    "#Corroboro que no se pierden valores en el pase de Excel a csv"
   ]
  },
  {
   "cell_type": "code",
   "execution_count": 4,
   "id": "52c036f9",
   "metadata": {},
   "outputs": [
    {
     "data": {
      "text/plain": [
       "(712, 11)"
      ]
     },
     "execution_count": 4,
     "metadata": {},
     "output_type": "execute_result"
    }
   ],
   "source": [
    "#Encuentro mis datos de interes en este caso los jugos listos para beber correspondientes a todas las marcas para ver la competitividad del producto\n",
    "\n",
    "df_ = df [df.subcategoria == 'JUGOS LISTOS P/BEBER']\n",
    "df_.shape"
   ]
  },
  {
   "cell_type": "code",
   "execution_count": 5,
   "id": "d9232b50",
   "metadata": {},
   "outputs": [
    {
     "data": {
      "text/plain": [
       "array(['(PC) JUGO MANZANA TUTTI TETRA X200 CC',\n",
       "       '(PC) JUGO NARANJA TUTTI TETRA X200 CC',\n",
       "       '--JUGO NARANJA TUTTITTB 200 CMQ',\n",
       "       'JUGO SOJA ADESMANZANA TTB 1 LT',\n",
       "       'JUGO BASE SOJA MANZANA ADES X 11',\n",
       "       'JUGO NATURAL DURAZNO DELICIOSO HF CEPITA',\n",
       "       'JUGO NATURAL DURAZNO DELICIOSO CEPITA PE',\n",
       "       'JUGO CEPITA MANZANATTB 200 CC',\n",
       "       'JUGO NATURAL 25 MANZANA CEPITA X 200 CC',\n",
       "       'JUGO NATURAL 25 MULTIFRUTAL CEPITA X 200',\n",
       "       'JUGO CEPITA MULTIFRUTATTB 200 CC',\n",
       "       'JUGO CEPITA MULTIFRUTA TTB 200 CC',\n",
       "       'JUGO NATURAL NARANJA S AZUCAR CEPITA PET', 'CEPITA 1 5LT',\n",
       "       'JUGO NATURAL NARANJA CEPITA X 200 CC', 'CEPITA 0.2LT',\n",
       "       'JUGO CEPITA NARANJA TTB 200 CC',\n",
       "       'JUGO NATURAL NARANJA TENTACION HF CEPITA',\n",
       "       'JUGO NARANJA CEPITA BOT 1000 CMO',\n",
       "       'JUGO NATURAL NARANJA ZINC CEPITA X 1 LT',\n",
       "       'JUGO NATURAL MANZANA ZINC CEPITA X 1 LT', 'JUGO PETIT 1LTR',\n",
       "       'JUGO PETIT ILTR', 'PETIT 1000CC',\n",
       "       'JUGO DE LIMON MINERVAPET 250 CC',\n",
       "       '(PC) JUGO DE LIMON MINERVA PET X 500 CC',\n",
       "       'JUGO DE LIMON MINERVA PET X 1 LT',\n",
       "       '(PC) JUGO NATURAL MULTIFRUTA DEL VALLE X',\n",
       "       '(PC) JUGO NATURAL MANZANA DEL VALLE X 20', 'DEL VALLE MU',\n",
       "       'DEL VALLE NA', 'JUGOS GERGAL',\n",
       "       'JUGO ORGANICO LIMON MENTA LAS BRISAS X 5',\n",
       "       'JUGO DE LIMON SILVA LINEA GOURMET X 500',\n",
       "       'BEBIDA A BASE ARROZ Y MANZANA LA SERENIS', 'LP JUCO', 'LP JUGO',\n",
       "       'LA PINTA', 'VBEBIDA A BASE ARROZ Y MANZANA LA SERENIS',\n",
       "       'BEBIDA A BASE ARROZ Y MANGANA LA SERENIS', 'LA SERENISINA',\n",
       "       'DEBIDA A BASE ARROZ Y MANZANA LA SERENIS',\n",
       "       'BEBIDA A BASE ARROZ Y MANZANA LA SERENTS',\n",
       "       'LP JUGO 40 NESQUIK CAO -303,20',\n",
       "       'BEBIDA A BASE ARROL Y MANZANA LA SERENIS', '2,0000 x 201,0000',\n",
       "       'LA PINTA 374,60', 'X BEBIDA A BASE ARROZ Y MANZANA LA SERENIS',\n",
       "       'LP JUGO 107.00', 'LP JUGO 35% ZIPLOC BOLP $-94.50', 'TA PINTA',\n",
       "       'LA SERENISTA', 'LP JLGO', 'U SEREXISIMA', 'LA SERENISIHA',\n",
       "       'A PINTA', 'LA SERENTSIMA', 'LA SERENISIKA', 'LA SERENISI',\n",
       "       'BEBIDA A BASE ARROZ Y NARANJA LA SERENIS', 'LA SERENISTHA',\n",
       "       '2,000 X 187,30', 'LP JUGO $99 PAN RALL CO $-51.00', 'IA PINTA',\n",
       "       'LA SERENISTMA', 'st', 'BEBIDA A BASE ARROZ Y RANUA LA SERENIS',\n",
       "       'BEBIDA A BASE ARROZ Y BANJA LA SERENTS', '7791720003381 402.00',\n",
       "       'NABEBIDA A BASE ARROZ Y NAIJA LA SERENIS',\n",
       "       'BEBIDA A BASE APROZ Y NARANJA LA SERENIS',\n",
       "       'O BEBIDA A BASE ARROZ Y NARANJA LA SERENIS',\n",
       "       'BEBIDA A BASE ARROZ Y NARANJA LA SERENTS',\n",
       "       'BEBIDA A BASE ARROZ Y NARANJA LA SERENIS X',\n",
       "       'BEBIDA A BASE ARROZ V NARANJA LA SERENIS',\n",
       "       'LP JUGO 25% CITRIC NARA $-94.75', 'ZORRO AB', '701 191.10',\n",
       "       'LP JUGO PROMO ANSES Y J $-51.29',\n",
       "       'BEBIDA A BASE ARROZ Y PARA LA SERE IS', 'LU Vuuu',\n",
       "       'BEB.A BASE D/ARROZ C/JUGOD/NARANJA LA SERENISI T',\n",
       "       'BEBIDA BASE ARROZ Y NARANJA LA SERENIS'], dtype=object)"
      ]
     },
     "execution_count": 5,
     "metadata": {},
     "output_type": "execute_result"
    }
   ],
   "source": [
    "df_.label.unique()\n",
    "\n",
    "#Veo cuales son las etiquetas que tinen los productos"
   ]
  },
  {
   "cell_type": "code",
   "execution_count": 6,
   "id": "71fc5bb4",
   "metadata": {},
   "outputs": [
    {
     "data": {
      "text/plain": [
       "LA PINTA                                     190\n",
       "BEBIDA A BASE ARROZ Y NARANJA LA SERENIS     159\n",
       "BEBIDA A BASE ARROZ Y MANZANA LA SERENIS     157\n",
       "LP JUGO                                      106\n",
       "LA SERENISINA                                  5\n",
       "                                            ... \n",
       "VBEBIDA A BASE ARROZ Y MANZANA LA SERENIS      1\n",
       "JUGO SOJA ADESMANZANA TTB 1 LT                 1\n",
       "BEBIDA BASE ARROZ Y NARANJA LA SERENIS         1\n",
       "JUGO NATURAL NARANJA TENTACION HF CEPITA       1\n",
       "BEBIDA A BASE ARROZ Y MANGANA LA SERENIS       1\n",
       "Name: label, Length: 83, dtype: int64"
      ]
     },
     "execution_count": 6,
     "metadata": {},
     "output_type": "execute_result"
    }
   ],
   "source": [
    "df_.label.value_counts()\n",
    "\n",
    "#Veo la cantidad de productos segun la etiqueta "
   ]
  },
  {
   "cell_type": "code",
   "execution_count": 7,
   "id": "ece315c6",
   "metadata": {},
   "outputs": [
    {
     "data": {
      "text/plain": [
       "array(['TUTTI               MANZANA   TETRA         200 CC 7798290580083',\n",
       "       'TUTTI               NARANJA   TETRA         200 CC 7798290580052',\n",
       "       'ADES      JUGO      MANZANA   TETRA        1000 CC 7790895643835',\n",
       "       'CEPITA    DEL VALLE DURAZNO   BOT.PLAST.   1000 CC 7790895009846',\n",
       "       'CEPITA    DEL VALLE JUGO      DURAZ.DEL.   1500 CCBOT.PLAST. 7790895641534',\n",
       "       'CEPITA    DEL VALLE JUGO      MANZANA       200 CCTETRA 7790895000720',\n",
       "       'CEPITA    DEL VALLE JUGO      MULTIFRUTA    200 CCTETRA 7790895000737',\n",
       "       'CEPITA    DEL VALLE JUGO      NAR.TENTA.    300 CCBOT.PLAST. 7790895642029',\n",
       "       'CEPITA    DEL VALLE JUGO      NAR.TENTA.   1500 CCBOT.PLAST. 7790895641800',\n",
       "       'CEPITA    DEL VALLE JUGO      NARANJA       200 CCTETRA 7790895641596',\n",
       "       'CEPITA    DEL VALLE NARANJA   BOT.PLAST.   1000 CC 7790895009815',\n",
       "       'CEPITA    DEL VALLE NARANJA   TETRA         1000CC 7790895646560',\n",
       "       'CEPITA DEL VALLE  MANZANA TETRA 1000CC 7790895647017',\n",
       "       'PETIT     CITRIC    NARANJA    TETRA     1000 ML 7798085681001',\n",
       "       'MINERVA   100 %     JUGO LIMONBOT.PLAST.    250 CCECO BOT. 7790070507372',\n",
       "       'MINERVA   100 %     JUGO LIMONBOT.PLAST.    500 CCECO BOT. 7790070507341',\n",
       "       'MINERVA   JUGO      LIMON     PET          1000 CC 7790070507358',\n",
       "       'DEL VALLE  MULTIFRUTA TETRA 200ML 7790154008351',\n",
       "       'DEL VALLE JUGO DE MANZANA TETRA 200 ML. 7790154008368',\n",
       "       'DEL VALLE JUGO MULTIFRUTA TETRA 1000ML 7790154008306',\n",
       "       'DEL VALLE JUGO NARANJA TETRA 1000ML 7790154008283',\n",
       "       'GERGAL    JUGO      MIX BERRIES BOT.PLAST.  500 CC 7796435006030',\n",
       "       'LAS BRISASORGANICO  LIMONADA  BOT.VIDRIO   1000 CC 7798161720273',\n",
       "       'SILVA JUGO LIMON BOT. PLAST. 500CC 7798142741242',\n",
       "       'LA PINTA, Jugo Vegetal Sandía 1 Lt',\n",
       "       'LA PINTA, Jugo Vegetal Plátano 1 Lt'], dtype=object)"
      ]
     },
     "execution_count": 7,
     "metadata": {},
     "output_type": "execute_result"
    }
   ],
   "source": [
    "df_.descripcion.unique()\n",
    "\n",
    "#Veo cuales son las desctipciones de cada prodcuto "
   ]
  },
  {
   "cell_type": "code",
   "execution_count": 8,
   "id": "2cfeec4d",
   "metadata": {},
   "outputs": [
    {
     "data": {
      "text/plain": [
       "LA PINTA, Jugo Vegetal Sandía 1 Lt                                            341\n",
       "LA PINTA, Jugo Vegetal Plátano 1 Lt                                           328\n",
       "CEPITA    DEL VALLE JUGO      MULTIFRUTA    200 CCTETRA 7790895000737           7\n",
       "CEPITA    DEL VALLE JUGO      NARANJA       200 CCTETRA 7790895641596           4\n",
       "PETIT     CITRIC    NARANJA    TETRA     1000 ML 7798085681001                  3\n",
       "TUTTI               NARANJA   TETRA         200 CC 7798290580052                2\n",
       "DEL VALLE JUGO NARANJA TETRA 1000ML 7790154008283                               2\n",
       "MINERVA   JUGO      LIMON     PET          1000 CC 7790070507358                2\n",
       "CEPITA    DEL VALLE NARANJA   TETRA         1000CC 7790895646560                2\n",
       "CEPITA    DEL VALLE JUGO      MANZANA       200 CCTETRA 7790895000720           2\n",
       "CEPITA    DEL VALLE NARANJA   BOT.PLAST.   1000 CC 7790895009815                2\n",
       "DEL VALLE JUGO MULTIFRUTA TETRA 1000ML 7790154008306                            2\n",
       "ADES      JUGO      MANZANA   TETRA        1000 CC 7790895643835                2\n",
       "TUTTI               MANZANA   TETRA         200 CC 7798290580083                1\n",
       "GERGAL    JUGO      MIX BERRIES BOT.PLAST.  500 CC 7796435006030                1\n",
       "CEPITA DEL VALLE  MANZANA TETRA 1000CC 7790895647017                            1\n",
       "MINERVA   100 %     JUGO LIMONBOT.PLAST.    250 CCECO BOT. 7790070507372        1\n",
       "CEPITA    DEL VALLE JUGO      DURAZ.DEL.   1500 CCBOT.PLAST. 7790895641534      1\n",
       "DEL VALLE  MULTIFRUTA TETRA 200ML 7790154008351                                 1\n",
       "DEL VALLE JUGO DE MANZANA TETRA 200 ML. 7790154008368                           1\n",
       "LAS BRISASORGANICO  LIMONADA  BOT.VIDRIO   1000 CC 7798161720273                1\n",
       "SILVA JUGO LIMON BOT. PLAST. 500CC 7798142741242                                1\n",
       "CEPITA    DEL VALLE JUGO      NAR.TENTA.   1500 CCBOT.PLAST. 7790895641800      1\n",
       "MINERVA   100 %     JUGO LIMONBOT.PLAST.    500 CCECO BOT. 7790070507341        1\n",
       "CEPITA    DEL VALLE DURAZNO   BOT.PLAST.   1000 CC 7790895009846                1\n",
       "CEPITA    DEL VALLE JUGO      NAR.TENTA.    300 CCBOT.PLAST. 7790895642029      1\n",
       "Name: descripcion, dtype: int64"
      ]
     },
     "execution_count": 8,
     "metadata": {},
     "output_type": "execute_result"
    }
   ],
   "source": [
    "df_.descripcion.value_counts()\n",
    "\n",
    "#Veo la cantidad de prodcutos segun la descripcion"
   ]
  },
  {
   "cell_type": "code",
   "execution_count": 9,
   "id": "85e6667d",
   "metadata": {},
   "outputs": [
    {
     "name": "stdout",
     "output_type": "stream",
     "text": [
      "331\n"
     ]
    },
    {
     "data": {
      "text/plain": [
       "(331, 11)"
      ]
     },
     "execution_count": 9,
     "metadata": {},
     "output_type": "execute_result"
    }
   ],
   "source": [
    "print (df_[['cliente_id']].duplicated().sum())\n",
    "df_2 = df_.loc[df_[['cliente_id']].duplicated()]\n",
    "df_2.shape\n",
    "\n",
    "#Encuentro cuales son los clientes que volvieron a comprar en el mismo periodo"
   ]
  },
  {
   "cell_type": "code",
   "execution_count": 10,
   "id": "cb200a17",
   "metadata": {},
   "outputs": [
    {
     "name": "stdout",
     "output_type": "stream",
     "text": [
      "(331,)\n"
     ]
    },
    {
     "data": {
      "text/plain": [
       "BEBIDA A BASE ARROZ Y NARANJA LA SERENIS      111\n",
       "LA PINTA                                       95\n",
       "LP JUGO                                        47\n",
       "BEBIDA A BASE ARROZ Y MANZANA LA SERENIS       39\n",
       "LA SERENISINA                                   4\n",
       "LP JUGO $99 PAN RALL CO $-51.00                 2\n",
       "DEL VALLE NA                                    2\n",
       "LA SERENISIKA                                   2\n",
       "BEBIDA A BASE ARROZ Y MANZANA LA SERENTS        1\n",
       "U SEREXISIMA                                    1\n",
       "LP JUGO 107.00                                  1\n",
       "LP JUGO PROMO ANSES Y J $-51.29                 1\n",
       "LU Vuuu                                         1\n",
       "st                                              1\n",
       "2,000 X 187,30                                  1\n",
       "ZORRO AB                                        1\n",
       "JUGO NATURAL NARANJA ZINC CEPITA X 1 LT         1\n",
       "LA SERENISIHA                                   1\n",
       "IA PINTA                                        1\n",
       "JUGO PETIT ILTR                                 1\n",
       "O BEBIDA A BASE ARROZ Y NARANJA LA SERENIS      1\n",
       "JUGO DE LIMON MINERVA PET X 1 LT                1\n",
       "(PC) JUGO NATURAL MANZANA DEL VALLE X 20        1\n",
       "BEBIDA A BASE ARROZ V NARANJA LA SERENIS        1\n",
       "701 191.10                                      1\n",
       "LA PINTA 374,60                                 1\n",
       "JUGO CEPITA MULTIFRUTATTB 200 CC                1\n",
       "LA SERENISTA                                    1\n",
       "DEL VALLE MU                                    1\n",
       "(PC) JUGO NATURAL MULTIFRUTA DEL VALLE X        1\n",
       "BEBIDA A BASE ARROZ Y NARANJA LA SERENTS        1\n",
       "DEBIDA A BASE ARROZ Y MANZANA LA SERENIS        1\n",
       "LA SERENISTMA                                   1\n",
       "LP JUCO                                         1\n",
       "BEBIDA A BASE ARROZ Y NARANJA LA SERENIS X      1\n",
       "BEBIDA A BASE ARROZ Y RANUA LA SERENIS          1\n",
       "LA SERENISI                                     1\n",
       "Name: label, dtype: int64"
      ]
     },
     "execution_count": 10,
     "metadata": {},
     "output_type": "execute_result"
    }
   ],
   "source": [
    "print (df_2.label.shape)\n",
    "df_2.label.value_counts()\n",
    "\n",
    "#Veo la cantidad de prodcutos segun la etiqueta"
   ]
  },
  {
   "cell_type": "code",
   "execution_count": 11,
   "id": "34e048ad",
   "metadata": {},
   "outputs": [
    {
     "name": "stdout",
     "output_type": "stream",
     "text": [
      "(331,)\n"
     ]
    },
    {
     "data": {
      "text/plain": [
       "LA PINTA, Jugo Vegetal Plátano 1 Lt                                      230\n",
       "LA PINTA, Jugo Vegetal Sandía 1 Lt                                        92\n",
       "DEL VALLE JUGO NARANJA TETRA 1000ML 7790154008283                          2\n",
       "DEL VALLE  MULTIFRUTA TETRA 200ML 7790154008351                            1\n",
       "DEL VALLE JUGO DE MANZANA TETRA 200 ML. 7790154008368                      1\n",
       "DEL VALLE JUGO MULTIFRUTA TETRA 1000ML 7790154008306                       1\n",
       "MINERVA   JUGO      LIMON     PET          1000 CC 7790070507358           1\n",
       "PETIT     CITRIC    NARANJA    TETRA     1000 ML 7798085681001             1\n",
       "CEPITA    DEL VALLE JUGO      MULTIFRUTA    200 CCTETRA 7790895000737      1\n",
       "CEPITA    DEL VALLE NARANJA   TETRA         1000CC 7790895646560           1\n",
       "Name: descripcion, dtype: int64"
      ]
     },
     "execution_count": 11,
     "metadata": {},
     "output_type": "execute_result"
    }
   ],
   "source": [
    "print (df_2.descripcion.shape)\n",
    "df_2.descripcion.value_counts()\n",
    "\n",
    "#Veo la cantidad de productos segun la descripcion"
   ]
  },
  {
   "cell_type": "code",
   "execution_count": 12,
   "id": "ffddc7ef",
   "metadata": {},
   "outputs": [
    {
     "data": {
      "text/plain": [
       "35"
      ]
     },
     "execution_count": 12,
     "metadata": {},
     "output_type": "execute_result"
    }
   ],
   "source": [
    "df_2.duplicated().sum()\n",
    "\n",
    "#Puedo ver que en una 3er instancia 35 personas volvieron a comprar en el mismo periodo"
   ]
  },
  {
   "cell_type": "code",
   "execution_count": 13,
   "id": "5b0d46dd",
   "metadata": {},
   "outputs": [
    {
     "data": {
      "text/plain": [
       "LA PINTA, Jugo Vegetal Plátano 1 Lt                  23\n",
       "LA PINTA, Jugo Vegetal Sandía 1 Lt                   11\n",
       "DEL VALLE JUGO NARANJA TETRA 1000ML 7790154008283     1\n",
       "Name: descripcion, dtype: int64"
      ]
     },
     "execution_count": 13,
     "metadata": {},
     "output_type": "execute_result"
    }
   ],
   "source": [
    "df_2.loc[df_2.duplicated()].descripcion.value_counts()"
   ]
  },
  {
   "cell_type": "code",
   "execution_count": 14,
   "id": "c987a2b1",
   "metadata": {},
   "outputs": [
    {
     "data": {
      "text/plain": [
       "0"
      ]
     },
     "execution_count": 14,
     "metadata": {},
     "output_type": "execute_result"
    }
   ],
   "source": [
    "df_3 = df_2.drop_duplicates()\n",
    "df_3.duplicated().sum()\n",
    "\n",
    "#No necesito volver a analizar si existen duplicados"
   ]
  },
  {
   "cell_type": "code",
   "execution_count": 15,
   "id": "a7786278",
   "metadata": {},
   "outputs": [],
   "source": [
    "df_q = df.groupby(['cliente_id', 'descripcion', 'quantity'] , as_index=False).sum()[['cliente_id', 'descripcion', 'quantity']]\n",
    "\n",
    "#Analizo que cantidad de prodcutos compra cada usuario"
   ]
  },
  {
   "cell_type": "code",
   "execution_count": 16,
   "id": "ced61cab",
   "metadata": {},
   "outputs": [
    {
     "data": {
      "text/html": [
       "<div>\n",
       "<style scoped>\n",
       "    .dataframe tbody tr th:only-of-type {\n",
       "        vertical-align: middle;\n",
       "    }\n",
       "\n",
       "    .dataframe tbody tr th {\n",
       "        vertical-align: top;\n",
       "    }\n",
       "\n",
       "    .dataframe thead th {\n",
       "        text-align: right;\n",
       "    }\n",
       "</style>\n",
       "<table border=\"1\" class=\"dataframe\">\n",
       "  <thead>\n",
       "    <tr style=\"text-align: right;\">\n",
       "      <th></th>\n",
       "      <th>cliente_id</th>\n",
       "      <th>descripcion</th>\n",
       "      <th>quantity</th>\n",
       "    </tr>\n",
       "  </thead>\n",
       "  <tbody>\n",
       "    <tr>\n",
       "      <th>2</th>\n",
       "      <td>1019362</td>\n",
       "      <td>LA PINTA, Jugo Vegetal Sandía 1 Lt</td>\n",
       "      <td>1</td>\n",
       "    </tr>\n",
       "    <tr>\n",
       "      <th>10</th>\n",
       "      <td>1020277</td>\n",
       "      <td>LA PINTA, Jugo Vegetal Sandía 1 Lt</td>\n",
       "      <td>1</td>\n",
       "    </tr>\n",
       "    <tr>\n",
       "      <th>13</th>\n",
       "      <td>1020725</td>\n",
       "      <td>LA PINTA, Jugo Vegetal Sandía 1 Lt</td>\n",
       "      <td>1</td>\n",
       "    </tr>\n",
       "    <tr>\n",
       "      <th>27</th>\n",
       "      <td>1020786</td>\n",
       "      <td>LA PINTA, Jugo Vegetal Sandía 1 Lt</td>\n",
       "      <td>1</td>\n",
       "    </tr>\n",
       "    <tr>\n",
       "      <th>45</th>\n",
       "      <td>1025990</td>\n",
       "      <td>LA PINTA, Jugo Vegetal Sandía 1 Lt</td>\n",
       "      <td>1</td>\n",
       "    </tr>\n",
       "    <tr>\n",
       "      <th>...</th>\n",
       "      <td>...</td>\n",
       "      <td>...</td>\n",
       "      <td>...</td>\n",
       "    </tr>\n",
       "    <tr>\n",
       "      <th>4229</th>\n",
       "      <td>102742513</td>\n",
       "      <td>LA PINTA, Jugo Vegetal Sandía 1 Lt</td>\n",
       "      <td>1</td>\n",
       "    </tr>\n",
       "    <tr>\n",
       "      <th>4277</th>\n",
       "      <td>102766288</td>\n",
       "      <td>LA PINTA, Jugo Vegetal Sandía 1 Lt</td>\n",
       "      <td>1</td>\n",
       "    </tr>\n",
       "    <tr>\n",
       "      <th>4291</th>\n",
       "      <td>102785767</td>\n",
       "      <td>LA PINTA, Jugo Vegetal Sandía 1 Lt</td>\n",
       "      <td>1</td>\n",
       "    </tr>\n",
       "    <tr>\n",
       "      <th>4296</th>\n",
       "      <td>102786259</td>\n",
       "      <td>LA PINTA, Jugo Vegetal Sandía 1 Lt</td>\n",
       "      <td>1</td>\n",
       "    </tr>\n",
       "    <tr>\n",
       "      <th>4298</th>\n",
       "      <td>102791476</td>\n",
       "      <td>LA PINTA, Jugo Vegetal Sandía 1 Lt</td>\n",
       "      <td>1</td>\n",
       "    </tr>\n",
       "  </tbody>\n",
       "</table>\n",
       "<p>279 rows × 3 columns</p>\n",
       "</div>"
      ],
      "text/plain": [
       "      cliente_id                         descripcion  quantity\n",
       "2        1019362  LA PINTA, Jugo Vegetal Sandía 1 Lt         1\n",
       "10       1020277  LA PINTA, Jugo Vegetal Sandía 1 Lt         1\n",
       "13       1020725  LA PINTA, Jugo Vegetal Sandía 1 Lt         1\n",
       "27       1020786  LA PINTA, Jugo Vegetal Sandía 1 Lt         1\n",
       "45       1025990  LA PINTA, Jugo Vegetal Sandía 1 Lt         1\n",
       "...          ...                                 ...       ...\n",
       "4229   102742513  LA PINTA, Jugo Vegetal Sandía 1 Lt         1\n",
       "4277   102766288  LA PINTA, Jugo Vegetal Sandía 1 Lt         1\n",
       "4291   102785767  LA PINTA, Jugo Vegetal Sandía 1 Lt         1\n",
       "4296   102786259  LA PINTA, Jugo Vegetal Sandía 1 Lt         1\n",
       "4298   102791476  LA PINTA, Jugo Vegetal Sandía 1 Lt         1\n",
       "\n",
       "[279 rows x 3 columns]"
      ]
     },
     "execution_count": 16,
     "metadata": {},
     "output_type": "execute_result"
    }
   ],
   "source": [
    "df_q2 = df_q.loc[df_q.descripcion == 'LA PINTA, Jugo Vegetal Sandía 1 Lt']\n",
    "df_q2\n",
    "\n",
    "#Analizo para el sabor Sandia "
   ]
  },
  {
   "cell_type": "code",
   "execution_count": 17,
   "id": "54053987",
   "metadata": {},
   "outputs": [
    {
     "data": {
      "text/plain": [
       "array([ 1,  1,  1,  1,  1,  1,  2,  1,  2,  1,  1,  1,  1,  2,  1,  1,  2,\n",
       "        2,  1,  1,  2,  2,  1,  1,  2,  2,  1,  1,  1,  1,  2,  2,  1,  1,\n",
       "        1,  2,  1,  1,  1,  1,  1,  1,  2,  2,  1,  1,  1,  2,  2,  1,  1,\n",
       "        1,  2,  2,  1,  1,  1,  1,  2,  1,  2,  1,  1,  1,  1,  2,  1,  1,\n",
       "        1,  1,  1,  2,  1,  2,  1, 54,  1,  1,  1,  2,  2,  1,  1,  1,  1,\n",
       "        1,  2,  1,  1,  1,  2,  1,  1,  1,  1,  1,  2,  2,  1,  2,  2,  1,\n",
       "        2,  3,  2,  1,  1,  1,  1,  2,  2,  1,  1,  2,  2,  1,  2,  1,  1,\n",
       "        1,  1,  1,  1,  2,  1,  2,  1,  1,  1,  2,  1,  1,  1,  1,  1,  2,\n",
       "        2,  2,  2,  1,  1,  1,  2,  1,  2,  1,  1,  1,  1,  1,  1,  1,  1,\n",
       "        1,  1,  1,  1,  1,  1,  2,  1,  1,  1,  1,  1,  2,  1,  1,  1,  1,\n",
       "        1,  1,  1,  2,  1,  1,  1,  2,  1,  1,  1,  2,  2,  1,  2,  1,  2,\n",
       "        2,  1,  1,  1,  2,  1,  2,  1,  1,  1,  1,  2,  1,  1,  1,  2,  1,\n",
       "        1,  2,  1,  2,  2,  1,  1,  1,  2,  1,  2,  1,  2,  1,  2,  1,  2,\n",
       "        1,  1,  1,  1,  2,  1,  1,  2,  2,  1,  1,  2,  1,  2,  1,  2,  1,\n",
       "        1,  1,  2,  1,  2,  1,  2,  1,  1,  1,  1,  2,  1,  1,  1,  1,  1,\n",
       "        1,  1,  1,  1,  1,  1,  1,  1,  1,  1,  1,  1,  1,  1,  1,  1,  1,\n",
       "        1,  2,  1,  1,  1,  1,  1], dtype=int64)"
      ]
     },
     "execution_count": 17,
     "metadata": {},
     "output_type": "execute_result"
    }
   ],
   "source": [
    "df_q2 = df_q2.reset_index(drop = True)\n",
    "df_q2.quantity.values"
   ]
  },
  {
   "cell_type": "code",
   "execution_count": 18,
   "id": "9966a0e6",
   "metadata": {},
   "outputs": [
    {
     "data": {
      "text/plain": [
       "1     198\n",
       "2      79\n",
       "54      1\n",
       "3       1\n",
       "Name: quantity, dtype: int64"
      ]
     },
     "execution_count": 18,
     "metadata": {},
     "output_type": "execute_result"
    }
   ],
   "source": [
    "df_q2.quantity.value_counts()\n",
    "\n",
    "#Puedo identificar valores extraños"
   ]
  },
  {
   "cell_type": "code",
   "execution_count": 19,
   "id": "c33aeee0",
   "metadata": {},
   "outputs": [
    {
     "data": {
      "text/html": [
       "<div>\n",
       "<style scoped>\n",
       "    .dataframe tbody tr th:only-of-type {\n",
       "        vertical-align: middle;\n",
       "    }\n",
       "\n",
       "    .dataframe tbody tr th {\n",
       "        vertical-align: top;\n",
       "    }\n",
       "\n",
       "    .dataframe thead th {\n",
       "        text-align: right;\n",
       "    }\n",
       "</style>\n",
       "<table border=\"1\" class=\"dataframe\">\n",
       "  <thead>\n",
       "    <tr style=\"text-align: right;\">\n",
       "      <th></th>\n",
       "      <th>cliente_id</th>\n",
       "      <th>descripcion</th>\n",
       "      <th>quantity</th>\n",
       "    </tr>\n",
       "  </thead>\n",
       "  <tbody>\n",
       "    <tr>\n",
       "      <th>75</th>\n",
       "      <td>1125168</td>\n",
       "      <td>LA PINTA, Jugo Vegetal Sandía 1 Lt</td>\n",
       "      <td>54</td>\n",
       "    </tr>\n",
       "  </tbody>\n",
       "</table>\n",
       "</div>"
      ],
      "text/plain": [
       "    cliente_id                         descripcion  quantity\n",
       "75     1125168  LA PINTA, Jugo Vegetal Sandía 1 Lt        54"
      ]
     },
     "execution_count": 19,
     "metadata": {},
     "output_type": "execute_result"
    }
   ],
   "source": [
    "df_q2[df_q2.quantity == 54]"
   ]
  },
  {
   "cell_type": "code",
   "execution_count": 20,
   "id": "7f851f2c",
   "metadata": {},
   "outputs": [
    {
     "data": {
      "text/html": [
       "<div>\n",
       "<style scoped>\n",
       "    .dataframe tbody tr th:only-of-type {\n",
       "        vertical-align: middle;\n",
       "    }\n",
       "\n",
       "    .dataframe tbody tr th {\n",
       "        vertical-align: top;\n",
       "    }\n",
       "\n",
       "    .dataframe thead th {\n",
       "        text-align: right;\n",
       "    }\n",
       "</style>\n",
       "<table border=\"1\" class=\"dataframe\">\n",
       "  <thead>\n",
       "    <tr style=\"text-align: right;\">\n",
       "      <th></th>\n",
       "      <th>cliente_id</th>\n",
       "      <th>descripcion</th>\n",
       "      <th>quantity</th>\n",
       "    </tr>\n",
       "  </thead>\n",
       "  <tbody>\n",
       "    <tr>\n",
       "      <th>26</th>\n",
       "      <td>1020786</td>\n",
       "      <td>LA PINTA, Jugo Vegetal Plátano 1 Lt</td>\n",
       "      <td>1</td>\n",
       "    </tr>\n",
       "    <tr>\n",
       "      <th>49</th>\n",
       "      <td>1027342</td>\n",
       "      <td>LA PINTA, Jugo Vegetal Plátano 1 Lt</td>\n",
       "      <td>1</td>\n",
       "    </tr>\n",
       "    <tr>\n",
       "      <th>70</th>\n",
       "      <td>1029182</td>\n",
       "      <td>LA PINTA, Jugo Vegetal Plátano 1 Lt</td>\n",
       "      <td>2</td>\n",
       "    </tr>\n",
       "    <tr>\n",
       "      <th>83</th>\n",
       "      <td>1029553</td>\n",
       "      <td>LA PINTA, Jugo Vegetal Plátano 1 Lt</td>\n",
       "      <td>1</td>\n",
       "    </tr>\n",
       "    <tr>\n",
       "      <th>88</th>\n",
       "      <td>1029664</td>\n",
       "      <td>LA PINTA, Jugo Vegetal Plátano 1 Lt</td>\n",
       "      <td>2</td>\n",
       "    </tr>\n",
       "    <tr>\n",
       "      <th>...</th>\n",
       "      <td>...</td>\n",
       "      <td>...</td>\n",
       "      <td>...</td>\n",
       "    </tr>\n",
       "    <tr>\n",
       "      <th>4255</th>\n",
       "      <td>102757078</td>\n",
       "      <td>LA PINTA, Jugo Vegetal Plátano 1 Lt</td>\n",
       "      <td>2</td>\n",
       "    </tr>\n",
       "    <tr>\n",
       "      <th>4266</th>\n",
       "      <td>102760909</td>\n",
       "      <td>LA PINTA, Jugo Vegetal Plátano 1 Lt</td>\n",
       "      <td>1</td>\n",
       "    </tr>\n",
       "    <tr>\n",
       "      <th>4294</th>\n",
       "      <td>102786259</td>\n",
       "      <td>LA PINTA, Jugo Vegetal Plátano 1 Lt</td>\n",
       "      <td>1</td>\n",
       "    </tr>\n",
       "    <tr>\n",
       "      <th>4295</th>\n",
       "      <td>102786259</td>\n",
       "      <td>LA PINTA, Jugo Vegetal Plátano 1 Lt</td>\n",
       "      <td>174</td>\n",
       "    </tr>\n",
       "    <tr>\n",
       "      <th>4297</th>\n",
       "      <td>102791476</td>\n",
       "      <td>LA PINTA, Jugo Vegetal Plátano 1 Lt</td>\n",
       "      <td>1</td>\n",
       "    </tr>\n",
       "  </tbody>\n",
       "</table>\n",
       "<p>266 rows × 3 columns</p>\n",
       "</div>"
      ],
      "text/plain": [
       "      cliente_id                          descripcion  quantity\n",
       "26       1020786  LA PINTA, Jugo Vegetal Plátano 1 Lt         1\n",
       "49       1027342  LA PINTA, Jugo Vegetal Plátano 1 Lt         1\n",
       "70       1029182  LA PINTA, Jugo Vegetal Plátano 1 Lt         2\n",
       "83       1029553  LA PINTA, Jugo Vegetal Plátano 1 Lt         1\n",
       "88       1029664  LA PINTA, Jugo Vegetal Plátano 1 Lt         2\n",
       "...          ...                                  ...       ...\n",
       "4255   102757078  LA PINTA, Jugo Vegetal Plátano 1 Lt         2\n",
       "4266   102760909  LA PINTA, Jugo Vegetal Plátano 1 Lt         1\n",
       "4294   102786259  LA PINTA, Jugo Vegetal Plátano 1 Lt         1\n",
       "4295   102786259  LA PINTA, Jugo Vegetal Plátano 1 Lt       174\n",
       "4297   102791476  LA PINTA, Jugo Vegetal Plátano 1 Lt         1\n",
       "\n",
       "[266 rows x 3 columns]"
      ]
     },
     "execution_count": 20,
     "metadata": {},
     "output_type": "execute_result"
    }
   ],
   "source": [
    "df_q3 = df_q.loc[df_q.descripcion == 'LA PINTA, Jugo Vegetal Plátano 1 Lt']\n",
    "df_q3\n",
    "\n",
    "#Analizo para el sabor Platano"
   ]
  },
  {
   "cell_type": "code",
   "execution_count": 21,
   "id": "c7bb817e",
   "metadata": {},
   "outputs": [
    {
     "data": {
      "text/plain": [
       "1      190\n",
       "2       72\n",
       "174      2\n",
       "402      1\n",
       "191      1\n",
       "Name: quantity, dtype: int64"
      ]
     },
     "execution_count": 21,
     "metadata": {},
     "output_type": "execute_result"
    }
   ],
   "source": [
    "df_q3 = df_q3.reset_index(drop = True)\n",
    "df_q3.quantity.value_counts()"
   ]
  },
  {
   "cell_type": "code",
   "execution_count": 22,
   "id": "dbe1bfa0",
   "metadata": {},
   "outputs": [
    {
     "data": {
      "text/plain": [
       "array([  1,   1,   2,   1,   2,   1,   1,   2,   1,   1,   2,   1,   1,\n",
       "         2,   1,   1,   2,   1,   2,   2,   1,   1,   1,   1,   1,   1,\n",
       "         2,   2,   1,   1,   2,   1,   1,   1,   1,   1,   1,   1,   2,\n",
       "         1,   1,   2,   1,   1,   1,   2,   1,   2,   1,   1,   2,   2,\n",
       "         1,   2,   1,   1,   2,   1,   1,   1,   1,   1,   1,   1,   1,\n",
       "         2,   2,   1,   1,   1,   1,   1,   1,   2,   2,   1,   2,   1,\n",
       "         1,   1,   1,   2,   1,   1,   2,   1,   1,   1,   1,   1,   2,\n",
       "         1,   2,   2,   1,   1,   1,   1,   1,   1,   2,   2,   1,   1,\n",
       "         2,   1,   1,   2,   1,   1,   2,   1,   2,   1,   1,   2,   1,\n",
       "         1,   1,   1,   1,   1,   2,   1,   1,   1,   1,   2,   1,   1,\n",
       "         2,   2,   2,   2,   2,   2,   1,   1,   1,   2,   1,   1,   1,\n",
       "         1,   1,   2,   1,   2,   1,   1,   1,   1,   1,   2,   2,   1,\n",
       "         1,   1,   1,   1,   2,   1,   1,   1,   1,   1,   1,   2,   2,\n",
       "         1,   1,   1,   2,   2,   1,   2,   1,   2,   1,   1,   1,   2,\n",
       "         1, 174,   1, 191,   1,   1,   1,   1,   1,   1,   1, 402,   1,\n",
       "         1,   1,   1,   1,   1,   2,   1,   1,   1,   2,   1,   1,   2,\n",
       "         1,   1,   2,   1,   2,   1,   1,   1,   1,   2,   2,   1,   1,\n",
       "         2,   2,   1,   1,   1,   2,   1,   1,   1,   2,   1,   1,   1,\n",
       "         1,   1,   1,   1,   1,   1,   1,   1,   1,   1,   1,   2,   1,\n",
       "         1,   1,   1,   1,   1,   2,   1,   1,   2,   1,   1,   1,   1,\n",
       "         1,   2,   1,   1, 174,   1], dtype=int64)"
      ]
     },
     "execution_count": 22,
     "metadata": {},
     "output_type": "execute_result"
    }
   ],
   "source": [
    "df_q3.quantity.values"
   ]
  },
  {
   "cell_type": "code",
   "execution_count": 23,
   "id": "50d9d134",
   "metadata": {},
   "outputs": [
    {
     "name": "stdout",
     "output_type": "stream",
     "text": [
      "     cliente_id                          descripcion  quantity\n",
      "183   102126738  LA PINTA, Jugo Vegetal Plátano 1 Lt       174\n",
      "264   102786259  LA PINTA, Jugo Vegetal Plátano 1 Lt       174\n",
      "     cliente_id                          descripcion  quantity\n",
      "193   102187050  LA PINTA, Jugo Vegetal Plátano 1 Lt       402\n",
      "     cliente_id                          descripcion  quantity\n",
      "185   102130866  LA PINTA, Jugo Vegetal Plátano 1 Lt       191\n"
     ]
    }
   ],
   "source": [
    "print (df_q3[df_q3.quantity == 174])\n",
    "print (df_q3[df_q3.quantity == 402])\n",
    "print (df_q3[df_q3.quantity == 191])\n",
    "\n",
    "#Puedo identificar valores extraños"
   ]
  },
  {
   "cell_type": "code",
   "execution_count": null,
   "id": "ccffd3c2",
   "metadata": {},
   "outputs": [],
   "source": []
  }
 ],
 "metadata": {
  "kernelspec": {
   "display_name": "Python [conda env:dhdsblend2021] *",
   "language": "python",
   "name": "conda-env-dhdsblend2021-py"
  },
  "language_info": {
   "codemirror_mode": {
    "name": "ipython",
    "version": 3
   },
   "file_extension": ".py",
   "mimetype": "text/x-python",
   "name": "python",
   "nbconvert_exporter": "python",
   "pygments_lexer": "ipython3",
   "version": "3.8.11"
  }
 },
 "nbformat": 4,
 "nbformat_minor": 5
}
