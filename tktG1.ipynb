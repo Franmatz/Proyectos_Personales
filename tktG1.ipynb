{
 "cells": [
  {
   "cell_type": "code",
   "execution_count": 1,
   "id": "7d3b4d59",
   "metadata": {},
   "outputs": [],
   "source": [
    "import pandas as pd\n",
    "import numpy as np \n",
    "import matplotlib.pyplot as plt\n",
    "import seaborn as sns"
   ]
  },
  {
   "cell_type": "code",
   "execution_count": 2,
   "id": "61f4c2e6",
   "metadata": {},
   "outputs": [
    {
     "data": {
      "text/html": [
       "<div>\n",
       "<style scoped>\n",
       "    .dataframe tbody tr th:only-of-type {\n",
       "        vertical-align: middle;\n",
       "    }\n",
       "\n",
       "    .dataframe tbody tr th {\n",
       "        vertical-align: top;\n",
       "    }\n",
       "\n",
       "    .dataframe thead th {\n",
       "        text-align: right;\n",
       "    }\n",
       "</style>\n",
       "<table border=\"1\" class=\"dataframe\">\n",
       "  <thead>\n",
       "    <tr style=\"text-align: right;\">\n",
       "      <th></th>\n",
       "      <th>ticket_id</th>\n",
       "      <th>cliente_id</th>\n",
       "      <th>Buy Date</th>\n",
       "      <th>Buy Hour</th>\n",
       "      <th>shop_name</th>\n",
       "      <th>Sexo</th>\n",
       "      <th>Nro Adultos</th>\n",
       "      <th>Nro Niños</th>\n",
       "      <th>Mascota</th>\n",
       "      <th>Baby Boomers</th>\n",
       "      <th>Tipo de Hogar</th>\n",
       "      <th>Ciudad</th>\n",
       "      <th>Unnamed: 12</th>\n",
       "      <th>Unnamed: 13</th>\n",
       "      <th>Unnamed: 14</th>\n",
       "      <th>Unnamed: 15</th>\n",
       "      <th>Unnamed: 16</th>\n",
       "      <th>Unnamed: 17</th>\n",
       "    </tr>\n",
       "  </thead>\n",
       "  <tbody>\n",
       "    <tr>\n",
       "      <th>0</th>\n",
       "      <td>2534466</td>\n",
       "      <td>102204264</td>\n",
       "      <td>20/12/2021</td>\n",
       "      <td>18:08:00</td>\n",
       "      <td>COTO</td>\n",
       "      <td>sin info</td>\n",
       "      <td>sin info</td>\n",
       "      <td>sin info</td>\n",
       "      <td>sin info</td>\n",
       "      <td>Baby Boomers</td>\n",
       "      <td>sin info</td>\n",
       "      <td>sin info</td>\n",
       "      <td>NaN</td>\n",
       "      <td>NaN</td>\n",
       "      <td>NaN</td>\n",
       "      <td>NaN</td>\n",
       "      <td>NaN</td>\n",
       "      <td>NaN</td>\n",
       "    </tr>\n",
       "    <tr>\n",
       "      <th>1</th>\n",
       "      <td>2544312</td>\n",
       "      <td>1019685</td>\n",
       "      <td>21/12/2021</td>\n",
       "      <td>9:35:00</td>\n",
       "      <td>COTO</td>\n",
       "      <td>sin info</td>\n",
       "      <td>sin info</td>\n",
       "      <td>sin info</td>\n",
       "      <td>sin info</td>\n",
       "      <td>Baby Boomers</td>\n",
       "      <td>sin info</td>\n",
       "      <td>sin info</td>\n",
       "      <td>NaN</td>\n",
       "      <td>NaN</td>\n",
       "      <td>NaN</td>\n",
       "      <td>NaN</td>\n",
       "      <td>NaN</td>\n",
       "      <td>NaN</td>\n",
       "    </tr>\n",
       "    <tr>\n",
       "      <th>2</th>\n",
       "      <td>2547282</td>\n",
       "      <td>1039679</td>\n",
       "      <td>21/12/2021</td>\n",
       "      <td>13:12:00</td>\n",
       "      <td>COTO</td>\n",
       "      <td>Mujer</td>\n",
       "      <td>2</td>\n",
       "      <td>0</td>\n",
       "      <td>Perro</td>\n",
       "      <td>Baby Boomers</td>\n",
       "      <td>parejas</td>\n",
       "      <td>Buenos Aires</td>\n",
       "      <td>NaN</td>\n",
       "      <td>NaN</td>\n",
       "      <td>NaN</td>\n",
       "      <td>NaN</td>\n",
       "      <td>NaN</td>\n",
       "      <td>NaN</td>\n",
       "    </tr>\n",
       "    <tr>\n",
       "      <th>3</th>\n",
       "      <td>2549184</td>\n",
       "      <td>1135034</td>\n",
       "      <td>21/12/2021</td>\n",
       "      <td>13:38:00</td>\n",
       "      <td>CARREFOUR</td>\n",
       "      <td>Hombre</td>\n",
       "      <td>2</td>\n",
       "      <td>0</td>\n",
       "      <td>0</td>\n",
       "      <td>Baby Boomers</td>\n",
       "      <td>parejas</td>\n",
       "      <td>Parana</td>\n",
       "      <td>NaN</td>\n",
       "      <td>NaN</td>\n",
       "      <td>NaN</td>\n",
       "      <td>NaN</td>\n",
       "      <td>NaN</td>\n",
       "      <td>NaN</td>\n",
       "    </tr>\n",
       "    <tr>\n",
       "      <th>4</th>\n",
       "      <td>2550015</td>\n",
       "      <td>1063748</td>\n",
       "      <td>21/12/2021</td>\n",
       "      <td>15:52:00</td>\n",
       "      <td>CARREFOUR</td>\n",
       "      <td>Hombre</td>\n",
       "      <td>2</td>\n",
       "      <td>2</td>\n",
       "      <td>Perro</td>\n",
       "      <td>Baby Boomers</td>\n",
       "      <td>familias</td>\n",
       "      <td>Olavarria</td>\n",
       "      <td>NaN</td>\n",
       "      <td>NaN</td>\n",
       "      <td>NaN</td>\n",
       "      <td>NaN</td>\n",
       "      <td>NaN</td>\n",
       "      <td>NaN</td>\n",
       "    </tr>\n",
       "    <tr>\n",
       "      <th>...</th>\n",
       "      <td>...</td>\n",
       "      <td>...</td>\n",
       "      <td>...</td>\n",
       "      <td>...</td>\n",
       "      <td>...</td>\n",
       "      <td>...</td>\n",
       "      <td>...</td>\n",
       "      <td>...</td>\n",
       "      <td>...</td>\n",
       "      <td>...</td>\n",
       "      <td>...</td>\n",
       "      <td>...</td>\n",
       "      <td>...</td>\n",
       "      <td>...</td>\n",
       "      <td>...</td>\n",
       "      <td>...</td>\n",
       "      <td>...</td>\n",
       "      <td>...</td>\n",
       "    </tr>\n",
       "    <tr>\n",
       "      <th>341</th>\n",
       "      <td>3102338</td>\n",
       "      <td>101942880</td>\n",
       "      <td>17/01/2022</td>\n",
       "      <td>13:40:00</td>\n",
       "      <td>COTO</td>\n",
       "      <td>Hombre</td>\n",
       "      <td>1</td>\n",
       "      <td>2</td>\n",
       "      <td>Perro</td>\n",
       "      <td>sin info</td>\n",
       "      <td>solteros con hijos</td>\n",
       "      <td>Lomas Del Mirador</td>\n",
       "      <td>NaN</td>\n",
       "      <td>NaN</td>\n",
       "      <td>NaN</td>\n",
       "      <td>NaN</td>\n",
       "      <td>NaN</td>\n",
       "      <td>NaN</td>\n",
       "    </tr>\n",
       "    <tr>\n",
       "      <th>342</th>\n",
       "      <td>3104771</td>\n",
       "      <td>102233526</td>\n",
       "      <td>17/01/2022</td>\n",
       "      <td>17:06:00</td>\n",
       "      <td>COTO</td>\n",
       "      <td>Mujer</td>\n",
       "      <td>2</td>\n",
       "      <td>0</td>\n",
       "      <td>0</td>\n",
       "      <td>sin info</td>\n",
       "      <td>parejas</td>\n",
       "      <td>Buenos Aires</td>\n",
       "      <td>NaN</td>\n",
       "      <td>NaN</td>\n",
       "      <td>NaN</td>\n",
       "      <td>NaN</td>\n",
       "      <td>NaN</td>\n",
       "      <td>NaN</td>\n",
       "    </tr>\n",
       "    <tr>\n",
       "      <th>343</th>\n",
       "      <td>3106223</td>\n",
       "      <td>1045243</td>\n",
       "      <td>17/01/2022</td>\n",
       "      <td>19:18:00</td>\n",
       "      <td>COTO</td>\n",
       "      <td>Hombre</td>\n",
       "      <td>1</td>\n",
       "      <td>0</td>\n",
       "      <td>Perro</td>\n",
       "      <td>sin info</td>\n",
       "      <td>solteros</td>\n",
       "      <td>Tigre</td>\n",
       "      <td>NaN</td>\n",
       "      <td>NaN</td>\n",
       "      <td>NaN</td>\n",
       "      <td>NaN</td>\n",
       "      <td>NaN</td>\n",
       "      <td>NaN</td>\n",
       "    </tr>\n",
       "    <tr>\n",
       "      <th>344</th>\n",
       "      <td>3109190</td>\n",
       "      <td>1081717</td>\n",
       "      <td>17/01/2022</td>\n",
       "      <td>20:05:00</td>\n",
       "      <td>CARREFOUR</td>\n",
       "      <td>Mujer</td>\n",
       "      <td>4</td>\n",
       "      <td>1</td>\n",
       "      <td>Otros</td>\n",
       "      <td>sin info</td>\n",
       "      <td>familias</td>\n",
       "      <td>Tablada</td>\n",
       "      <td>NaN</td>\n",
       "      <td>NaN</td>\n",
       "      <td>NaN</td>\n",
       "      <td>NaN</td>\n",
       "      <td>NaN</td>\n",
       "      <td>NaN</td>\n",
       "    </tr>\n",
       "    <tr>\n",
       "      <th>345</th>\n",
       "      <td>3112712</td>\n",
       "      <td>1107062</td>\n",
       "      <td>18/01/2022</td>\n",
       "      <td>9:05:00</td>\n",
       "      <td>CARREFOUR</td>\n",
       "      <td>Mujer</td>\n",
       "      <td>2</td>\n",
       "      <td>0</td>\n",
       "      <td>Perro</td>\n",
       "      <td>sin info</td>\n",
       "      <td>parejas</td>\n",
       "      <td>Avellaneda</td>\n",
       "      <td>NaN</td>\n",
       "      <td>NaN</td>\n",
       "      <td>NaN</td>\n",
       "      <td>NaN</td>\n",
       "      <td>NaN</td>\n",
       "      <td>NaN</td>\n",
       "    </tr>\n",
       "  </tbody>\n",
       "</table>\n",
       "<p>346 rows × 18 columns</p>\n",
       "</div>"
      ],
      "text/plain": [
       "     ticket_id  cliente_id    Buy Date  Buy Hour  shop_name      Sexo  \\\n",
       "0      2534466   102204264  20/12/2021  18:08:00       COTO  sin info   \n",
       "1      2544312     1019685  21/12/2021   9:35:00       COTO  sin info   \n",
       "2      2547282     1039679  21/12/2021  13:12:00       COTO     Mujer   \n",
       "3      2549184     1135034  21/12/2021  13:38:00  CARREFOUR    Hombre   \n",
       "4      2550015     1063748  21/12/2021  15:52:00  CARREFOUR    Hombre   \n",
       "..         ...         ...         ...       ...        ...       ...   \n",
       "341    3102338   101942880  17/01/2022  13:40:00       COTO    Hombre   \n",
       "342    3104771   102233526  17/01/2022  17:06:00       COTO     Mujer   \n",
       "343    3106223     1045243  17/01/2022  19:18:00       COTO    Hombre   \n",
       "344    3109190     1081717  17/01/2022  20:05:00  CARREFOUR     Mujer   \n",
       "345    3112712     1107062  18/01/2022   9:05:00  CARREFOUR     Mujer   \n",
       "\n",
       "    Nro Adultos Nro Niños   Mascota  Baby Boomers       Tipo de Hogar  \\\n",
       "0      sin info  sin info  sin info  Baby Boomers            sin info   \n",
       "1      sin info  sin info  sin info  Baby Boomers            sin info   \n",
       "2             2         0     Perro  Baby Boomers             parejas   \n",
       "3             2         0         0  Baby Boomers             parejas   \n",
       "4             2         2     Perro  Baby Boomers            familias   \n",
       "..          ...       ...       ...           ...                 ...   \n",
       "341           1         2     Perro      sin info  solteros con hijos   \n",
       "342           2         0         0      sin info             parejas   \n",
       "343           1         0     Perro      sin info            solteros   \n",
       "344           4         1     Otros      sin info            familias   \n",
       "345           2         0     Perro      sin info             parejas   \n",
       "\n",
       "                Ciudad  Unnamed: 12  Unnamed: 13  Unnamed: 14  Unnamed: 15  \\\n",
       "0             sin info          NaN          NaN          NaN          NaN   \n",
       "1             sin info          NaN          NaN          NaN          NaN   \n",
       "2         Buenos Aires          NaN          NaN          NaN          NaN   \n",
       "3               Parana          NaN          NaN          NaN          NaN   \n",
       "4            Olavarria          NaN          NaN          NaN          NaN   \n",
       "..                 ...          ...          ...          ...          ...   \n",
       "341  Lomas Del Mirador          NaN          NaN          NaN          NaN   \n",
       "342       Buenos Aires          NaN          NaN          NaN          NaN   \n",
       "343              Tigre          NaN          NaN          NaN          NaN   \n",
       "344            Tablada          NaN          NaN          NaN          NaN   \n",
       "345         Avellaneda          NaN          NaN          NaN          NaN   \n",
       "\n",
       "     Unnamed: 16  Unnamed: 17  \n",
       "0            NaN          NaN  \n",
       "1            NaN          NaN  \n",
       "2            NaN          NaN  \n",
       "3            NaN          NaN  \n",
       "4            NaN          NaN  \n",
       "..           ...          ...  \n",
       "341          NaN          NaN  \n",
       "342          NaN          NaN  \n",
       "343          NaN          NaN  \n",
       "344          NaN          NaN  \n",
       "345          NaN          NaN  \n",
       "\n",
       "[346 rows x 18 columns]"
      ]
     },
     "execution_count": 2,
     "metadata": {},
     "output_type": "execute_result"
    }
   ],
   "source": [
    "#Importo los datos correspondientes a el Resumen con información general de los tickets de la fase 1 de la campaña con información sobre el usuario\n",
    "    #Pasamos de un Excel a un CSV\n",
    "df = pd.read_csv('tktGelt.csv' , sep= \";\", encoding = 'latin-1')\n",
    "df"
   ]
  },
  {
   "cell_type": "code",
   "execution_count": 3,
   "id": "b054bbed",
   "metadata": {},
   "outputs": [
    {
     "data": {
      "text/plain": [
       "(346, 18)"
      ]
     },
     "execution_count": 3,
     "metadata": {},
     "output_type": "execute_result"
    }
   ],
   "source": [
    "#Conocemos el numero total de registros correspondientes a los datos del periodo\n",
    "df.shape"
   ]
  },
  {
   "cell_type": "code",
   "execution_count": 4,
   "id": "259c2d16",
   "metadata": {},
   "outputs": [
    {
     "data": {
      "text/plain": [
       "(299,)"
      ]
     },
     "execution_count": 4,
     "metadata": {},
     "output_type": "execute_result"
    }
   ],
   "source": [
    "df.cliente_id.unique().shape\n",
    "#Podemos notar que existen clientes que registraron mas de una compra en este periodo"
   ]
  },
  {
   "cell_type": "code",
   "execution_count": 5,
   "id": "335acba5",
   "metadata": {},
   "outputs": [],
   "source": [
    "#Renombramos la columna de interes\n",
    "df.rename(columns = {'Baby Boomers': 'description'}, inplace = True)"
   ]
  },
  {
   "cell_type": "code",
   "execution_count": 6,
   "id": "11314f48",
   "metadata": {},
   "outputs": [
    {
     "data": {
      "text/plain": [
       "(299, 18)"
      ]
     },
     "execution_count": 6,
     "metadata": {},
     "output_type": "execute_result"
    }
   ],
   "source": [
    "#Eliminamos los duplicados del dataframe para poder analizar objetivamente el publico\n",
    "df_ = df.drop_duplicates(subset = ['cliente_id'])\n",
    "df_.shape"
   ]
  },
  {
   "cell_type": "code",
   "execution_count": 7,
   "id": "016aae20",
   "metadata": {},
   "outputs": [
    {
     "data": {
      "text/plain": [
       "Millenials      139\n",
       "GeneraciónX      59\n",
       "GeneraciónZ      41\n",
       "Baby Boomers     33\n",
       "sin info         24\n",
       "Otros             2\n",
       "Generación        1\n",
       "Name: description, dtype: int64"
      ]
     },
     "execution_count": 7,
     "metadata": {},
     "output_type": "execute_result"
    }
   ],
   "source": [
    "#Analizamos el rango etario que mas utiliza la app \n",
    "df_['description'].value_counts()"
   ]
  },
  {
   "cell_type": "code",
   "execution_count": 8,
   "id": "bc6d94c1",
   "metadata": {},
   "outputs": [
    {
     "data": {
      "text/plain": [
       "array(['Baby Boomers', 'Generación', 'GeneraciónX', 'GeneraciónZ',\n",
       "       'Millenials', 'Otros', 'sin info'], dtype=object)"
      ]
     },
     "execution_count": 8,
     "metadata": {},
     "output_type": "execute_result"
    }
   ],
   "source": [
    "np.unique(df_['description'].values)"
   ]
  },
  {
   "cell_type": "code",
   "execution_count": 9,
   "id": "29f4ba3b",
   "metadata": {},
   "outputs": [
    {
     "data": {
      "image/png": "[encoded data removed]",
      "text/plain": [
       "<Figure size 720x720 with 1 Axes>"
      ]
     },
     "metadata": {},
     "output_type": "display_data"
    }
   ],
   "source": [
    "plt.figure(figsize=(10,10))\n",
    "plt.pie(df_['description'].value_counts(), labels = df_['description'].value_counts().index,  labeldistance= 1.3, autopct='%1.1f%%',pctdistance=0.8, textprops={'color':\"w\"})\n",
    "plt.box(False)\n",
    "plt.show()"
   ]
  },
  {
   "cell_type": "code",
   "execution_count": 10,
   "id": "db6a9cc3",
   "metadata": {},
   "outputs": [
    {
     "data": {
      "text/plain": [
       "array(['CARREFOUR', 'CHANGOMAS', 'COTO', 'WALMART'], dtype=object)"
      ]
     },
     "execution_count": 10,
     "metadata": {},
     "output_type": "execute_result"
    }
   ],
   "source": [
    "#Analizamos cuales son los locales que nuestro publico utiliza\n",
    "np.unique (df_.shop_name.values)"
   ]
  },
  {
   "cell_type": "code",
   "execution_count": 11,
   "id": "a509df8a",
   "metadata": {},
   "outputs": [
    {
     "data": {
      "text/plain": [
       "CARREFOUR    140\n",
       "COTO          90\n",
       "CHANGOMAS     59\n",
       "WALMART       10\n",
       "Name: shop_name, dtype: int64"
      ]
     },
     "execution_count": 11,
     "metadata": {},
     "output_type": "execute_result"
    }
   ],
   "source": [
    "#Analizams cuales son los locales mas concurridos por nuestros usuarios\n",
    "df_.shop_name.value_counts()"
   ]
  },
  {
   "cell_type": "code",
   "execution_count": 12,
   "id": "a18e3296",
   "metadata": {},
   "outputs": [
    {
     "data": {
      "image/png": "[encoded data removed]",
      "text/plain": [
       "<Figure size 720x720 with 1 Axes>"
      ]
     },
     "metadata": {},
     "output_type": "display_data"
    }
   ],
   "source": [
    "#Vemos graficamente cuales son los locales mas concurridos\n",
    "plt.figure(figsize=(10,10))\n",
    "plt.pie(df_.shop_name.value_counts(), labels = df_.shop_name.value_counts().index,  labeldistance= 1.3, autopct='%1.1f%%',pctdistance=0.8, textprops={'color':\"w\"})\n",
    "plt.box(False)\n",
    "plt.show()"
   ]
  },
  {
   "cell_type": "code",
   "execution_count": 13,
   "id": "76172108",
   "metadata": {},
   "outputs": [
    {
     "data": {
      "text/html": [
       "<div>\n",
       "<style scoped>\n",
       "    .dataframe tbody tr th:only-of-type {\n",
       "        vertical-align: middle;\n",
       "    }\n",
       "\n",
       "    .dataframe tbody tr th {\n",
       "        vertical-align: top;\n",
       "    }\n",
       "\n",
       "    .dataframe thead th {\n",
       "        text-align: right;\n",
       "    }\n",
       "</style>\n",
       "<table border=\"1\" class=\"dataframe\">\n",
       "  <thead>\n",
       "    <tr style=\"text-align: right;\">\n",
       "      <th></th>\n",
       "      <th>ticket_id</th>\n",
       "      <th>cliente_id</th>\n",
       "      <th>Buy Date</th>\n",
       "      <th>Buy Hour</th>\n",
       "      <th>shop_name</th>\n",
       "      <th>Sexo</th>\n",
       "      <th>Nro Adultos</th>\n",
       "      <th>Nro Niños</th>\n",
       "      <th>Mascota</th>\n",
       "      <th>description</th>\n",
       "      <th>Tipo de Hogar</th>\n",
       "      <th>Ciudad</th>\n",
       "      <th>Unnamed: 12</th>\n",
       "      <th>Unnamed: 13</th>\n",
       "      <th>Unnamed: 14</th>\n",
       "      <th>Unnamed: 15</th>\n",
       "      <th>Unnamed: 16</th>\n",
       "      <th>Unnamed: 17</th>\n",
       "    </tr>\n",
       "  </thead>\n",
       "  <tbody>\n",
       "    <tr>\n",
       "      <th>151</th>\n",
       "      <td>2886718</td>\n",
       "      <td>1155877</td>\n",
       "      <td>06/01/2022</td>\n",
       "      <td>20:17:00</td>\n",
       "      <td>WALMART</td>\n",
       "      <td>Hombre</td>\n",
       "      <td>1</td>\n",
       "      <td>0</td>\n",
       "      <td>0</td>\n",
       "      <td>Millenials</td>\n",
       "      <td>solteros</td>\n",
       "      <td>Ciudad Evita</td>\n",
       "      <td>NaN</td>\n",
       "      <td>NaN</td>\n",
       "      <td>NaN</td>\n",
       "      <td>NaN</td>\n",
       "      <td>NaN</td>\n",
       "      <td>NaN</td>\n",
       "    </tr>\n",
       "    <tr>\n",
       "      <th>152</th>\n",
       "      <td>2888839</td>\n",
       "      <td>101948473</td>\n",
       "      <td>06/01/2022</td>\n",
       "      <td>12:46:00</td>\n",
       "      <td>COTO</td>\n",
       "      <td>sin info</td>\n",
       "      <td>sin info</td>\n",
       "      <td>sin info</td>\n",
       "      <td>sin info</td>\n",
       "      <td>Millenials</td>\n",
       "      <td>sin info</td>\n",
       "      <td>sin info</td>\n",
       "      <td>NaN</td>\n",
       "      <td>NaN</td>\n",
       "      <td>NaN</td>\n",
       "      <td>NaN</td>\n",
       "      <td>NaN</td>\n",
       "      <td>NaN</td>\n",
       "    </tr>\n",
       "    <tr>\n",
       "      <th>153</th>\n",
       "      <td>2889988</td>\n",
       "      <td>101896254</td>\n",
       "      <td>04/01/2022</td>\n",
       "      <td>21:57:00</td>\n",
       "      <td>CHANGOMAS</td>\n",
       "      <td>Hombre</td>\n",
       "      <td>2</td>\n",
       "      <td>0</td>\n",
       "      <td>Gato</td>\n",
       "      <td>Millenials</td>\n",
       "      <td>parejas</td>\n",
       "      <td>Resistencia</td>\n",
       "      <td>NaN</td>\n",
       "      <td>NaN</td>\n",
       "      <td>NaN</td>\n",
       "      <td>NaN</td>\n",
       "      <td>NaN</td>\n",
       "      <td>NaN</td>\n",
       "    </tr>\n",
       "    <tr>\n",
       "      <th>154</th>\n",
       "      <td>2890960</td>\n",
       "      <td>102501634</td>\n",
       "      <td>06/01/2022</td>\n",
       "      <td>10:01:00</td>\n",
       "      <td>COTO</td>\n",
       "      <td>Mujer</td>\n",
       "      <td>2</td>\n",
       "      <td>0</td>\n",
       "      <td>0</td>\n",
       "      <td>Millenials</td>\n",
       "      <td>parejas</td>\n",
       "      <td>Buenos Aires</td>\n",
       "      <td>NaN</td>\n",
       "      <td>NaN</td>\n",
       "      <td>NaN</td>\n",
       "      <td>NaN</td>\n",
       "      <td>NaN</td>\n",
       "      <td>NaN</td>\n",
       "    </tr>\n",
       "    <tr>\n",
       "      <th>155</th>\n",
       "      <td>2894695</td>\n",
       "      <td>102026815</td>\n",
       "      <td>07/01/2022</td>\n",
       "      <td>11:42:00</td>\n",
       "      <td>CARREFOUR</td>\n",
       "      <td>Hombre</td>\n",
       "      <td>1</td>\n",
       "      <td>0</td>\n",
       "      <td>Gato</td>\n",
       "      <td>Millenials</td>\n",
       "      <td>solteros</td>\n",
       "      <td>Lanus</td>\n",
       "      <td>NaN</td>\n",
       "      <td>NaN</td>\n",
       "      <td>NaN</td>\n",
       "      <td>NaN</td>\n",
       "      <td>NaN</td>\n",
       "      <td>NaN</td>\n",
       "    </tr>\n",
       "    <tr>\n",
       "      <th>...</th>\n",
       "      <td>...</td>\n",
       "      <td>...</td>\n",
       "      <td>...</td>\n",
       "      <td>...</td>\n",
       "      <td>...</td>\n",
       "      <td>...</td>\n",
       "      <td>...</td>\n",
       "      <td>...</td>\n",
       "      <td>...</td>\n",
       "      <td>...</td>\n",
       "      <td>...</td>\n",
       "      <td>...</td>\n",
       "      <td>...</td>\n",
       "      <td>...</td>\n",
       "      <td>...</td>\n",
       "      <td>...</td>\n",
       "      <td>...</td>\n",
       "      <td>...</td>\n",
       "    </tr>\n",
       "    <tr>\n",
       "      <th>304</th>\n",
       "      <td>3050513</td>\n",
       "      <td>1166625</td>\n",
       "      <td>14/01/2022</td>\n",
       "      <td>14:32:00</td>\n",
       "      <td>CHANGOMAS</td>\n",
       "      <td>Hombre</td>\n",
       "      <td>1</td>\n",
       "      <td>0</td>\n",
       "      <td>0</td>\n",
       "      <td>Millenials</td>\n",
       "      <td>solteros</td>\n",
       "      <td>Carbometal</td>\n",
       "      <td>NaN</td>\n",
       "      <td>NaN</td>\n",
       "      <td>NaN</td>\n",
       "      <td>NaN</td>\n",
       "      <td>NaN</td>\n",
       "      <td>NaN</td>\n",
       "    </tr>\n",
       "    <tr>\n",
       "      <th>306</th>\n",
       "      <td>3054638</td>\n",
       "      <td>1154453</td>\n",
       "      <td>14/01/2022</td>\n",
       "      <td>17:16:00</td>\n",
       "      <td>COTO</td>\n",
       "      <td>Hombre</td>\n",
       "      <td>2</td>\n",
       "      <td>0</td>\n",
       "      <td>0</td>\n",
       "      <td>Millenials</td>\n",
       "      <td>parejas</td>\n",
       "      <td>Rosario</td>\n",
       "      <td>NaN</td>\n",
       "      <td>NaN</td>\n",
       "      <td>NaN</td>\n",
       "      <td>NaN</td>\n",
       "      <td>NaN</td>\n",
       "      <td>NaN</td>\n",
       "    </tr>\n",
       "    <tr>\n",
       "      <th>307</th>\n",
       "      <td>3055868</td>\n",
       "      <td>1108411</td>\n",
       "      <td>14/01/2022</td>\n",
       "      <td>16:59:00</td>\n",
       "      <td>COTO</td>\n",
       "      <td>Mujer</td>\n",
       "      <td>2</td>\n",
       "      <td>0</td>\n",
       "      <td>0</td>\n",
       "      <td>Millenials</td>\n",
       "      <td>parejas</td>\n",
       "      <td>Buenos Aires</td>\n",
       "      <td>NaN</td>\n",
       "      <td>NaN</td>\n",
       "      <td>NaN</td>\n",
       "      <td>NaN</td>\n",
       "      <td>NaN</td>\n",
       "      <td>NaN</td>\n",
       "    </tr>\n",
       "    <tr>\n",
       "      <th>308</th>\n",
       "      <td>3055934</td>\n",
       "      <td>1083750</td>\n",
       "      <td>12/01/2022</td>\n",
       "      <td>20:28:00</td>\n",
       "      <td>CHANGOMAS</td>\n",
       "      <td>Hombre</td>\n",
       "      <td>3</td>\n",
       "      <td>0</td>\n",
       "      <td>Gato</td>\n",
       "      <td>Millenials</td>\n",
       "      <td>3 o más adultos</td>\n",
       "      <td>Mota Botello</td>\n",
       "      <td>NaN</td>\n",
       "      <td>NaN</td>\n",
       "      <td>NaN</td>\n",
       "      <td>NaN</td>\n",
       "      <td>NaN</td>\n",
       "      <td>NaN</td>\n",
       "    </tr>\n",
       "    <tr>\n",
       "      <th>309</th>\n",
       "      <td>3056006</td>\n",
       "      <td>1164954</td>\n",
       "      <td>14/01/2022</td>\n",
       "      <td>16:57:00</td>\n",
       "      <td>COTO</td>\n",
       "      <td>Hombre</td>\n",
       "      <td>4</td>\n",
       "      <td>0</td>\n",
       "      <td>0</td>\n",
       "      <td>Millenials</td>\n",
       "      <td>3 o más adultos</td>\n",
       "      <td>Buenos Aires</td>\n",
       "      <td>NaN</td>\n",
       "      <td>NaN</td>\n",
       "      <td>NaN</td>\n",
       "      <td>NaN</td>\n",
       "      <td>NaN</td>\n",
       "      <td>NaN</td>\n",
       "    </tr>\n",
       "  </tbody>\n",
       "</table>\n",
       "<p>139 rows × 18 columns</p>\n",
       "</div>"
      ],
      "text/plain": [
       "     ticket_id  cliente_id    Buy Date  Buy Hour  shop_name      Sexo  \\\n",
       "151    2886718     1155877  06/01/2022  20:17:00    WALMART    Hombre   \n",
       "152    2888839   101948473  06/01/2022  12:46:00       COTO  sin info   \n",
       "153    2889988   101896254  04/01/2022  21:57:00  CHANGOMAS    Hombre   \n",
       "154    2890960   102501634  06/01/2022  10:01:00       COTO     Mujer   \n",
       "155    2894695   102026815  07/01/2022  11:42:00  CARREFOUR    Hombre   \n",
       "..         ...         ...         ...       ...        ...       ...   \n",
       "304    3050513     1166625  14/01/2022  14:32:00  CHANGOMAS    Hombre   \n",
       "306    3054638     1154453  14/01/2022  17:16:00       COTO    Hombre   \n",
       "307    3055868     1108411  14/01/2022  16:59:00       COTO     Mujer   \n",
       "308    3055934     1083750  12/01/2022  20:28:00  CHANGOMAS    Hombre   \n",
       "309    3056006     1164954  14/01/2022  16:57:00       COTO    Hombre   \n",
       "\n",
       "    Nro Adultos Nro Niños   Mascota description    Tipo de Hogar  \\\n",
       "151           1         0         0  Millenials         solteros   \n",
       "152    sin info  sin info  sin info  Millenials         sin info   \n",
       "153           2         0      Gato  Millenials          parejas   \n",
       "154           2         0         0  Millenials          parejas   \n",
       "155           1         0      Gato  Millenials         solteros   \n",
       "..          ...       ...       ...         ...              ...   \n",
       "304           1         0         0  Millenials         solteros   \n",
       "306           2         0         0  Millenials          parejas   \n",
       "307           2         0         0  Millenials          parejas   \n",
       "308           3         0      Gato  Millenials  3 o más adultos   \n",
       "309           4         0         0  Millenials  3 o más adultos   \n",
       "\n",
       "           Ciudad  Unnamed: 12  Unnamed: 13  Unnamed: 14  Unnamed: 15  \\\n",
       "151  Ciudad Evita          NaN          NaN          NaN          NaN   \n",
       "152      sin info          NaN          NaN          NaN          NaN   \n",
       "153   Resistencia          NaN          NaN          NaN          NaN   \n",
       "154  Buenos Aires          NaN          NaN          NaN          NaN   \n",
       "155         Lanus          NaN          NaN          NaN          NaN   \n",
       "..            ...          ...          ...          ...          ...   \n",
       "304    Carbometal          NaN          NaN          NaN          NaN   \n",
       "306       Rosario          NaN          NaN          NaN          NaN   \n",
       "307  Buenos Aires          NaN          NaN          NaN          NaN   \n",
       "308  Mota Botello          NaN          NaN          NaN          NaN   \n",
       "309  Buenos Aires          NaN          NaN          NaN          NaN   \n",
       "\n",
       "     Unnamed: 16  Unnamed: 17  \n",
       "151          NaN          NaN  \n",
       "152          NaN          NaN  \n",
       "153          NaN          NaN  \n",
       "154          NaN          NaN  \n",
       "155          NaN          NaN  \n",
       "..           ...          ...  \n",
       "304          NaN          NaN  \n",
       "306          NaN          NaN  \n",
       "307          NaN          NaN  \n",
       "308          NaN          NaN  \n",
       "309          NaN          NaN  \n",
       "\n",
       "[139 rows x 18 columns]"
      ]
     },
     "execution_count": 13,
     "metadata": {},
     "output_type": "execute_result"
    }
   ],
   "source": [
    "#Generamos un dataframe para el rango etario mayoritario\n",
    "df_M = df_[df_.description == 'Millenials']\n",
    "df_M"
   ]
  },
  {
   "cell_type": "code",
   "execution_count": 14,
   "id": "2d2aff7b",
   "metadata": {},
   "outputs": [
    {
     "data": {
      "text/plain": [
       "(139, 18)"
      ]
     },
     "execution_count": 14,
     "metadata": {},
     "output_type": "execute_result"
    }
   ],
   "source": [
    "df_M.shape"
   ]
  },
  {
   "cell_type": "code",
   "execution_count": 15,
   "id": "f3a4674b",
   "metadata": {},
   "outputs": [
    {
     "data": {
      "text/plain": [
       "CARREFOUR    57\n",
       "COTO         49\n",
       "CHANGOMAS    28\n",
       "WALMART       5\n",
       "Name: shop_name, dtype: int64"
      ]
     },
     "execution_count": 15,
     "metadata": {},
     "output_type": "execute_result"
    }
   ],
   "source": [
    "#Analizo cuales son los locales mas concurridos por el pubico de mayor volumen\n",
    "df_M.shop_name.value_counts()"
   ]
  },
  {
   "cell_type": "code",
   "execution_count": 16,
   "id": "93d98965",
   "metadata": {},
   "outputs": [
    {
     "data": {
      "image/png": "[encoded data removed]",
      "text/plain": [
       "<Figure size 720x720 with 1 Axes>"
      ]
     },
     "metadata": {},
     "output_type": "display_data"
    }
   ],
   "source": [
    "plt.figure(figsize=(10,10))\n",
    "plt.pie(df_M.shop_name.value_counts(), labels = df_M.shop_name.value_counts().index,  labeldistance= 1.3, autopct='%1.1f%%',pctdistance=0.8, textprops={'color':\"w\"})\n",
    "plt.box(False)\n",
    "plt.show()"
   ]
  },
  {
   "cell_type": "code",
   "execution_count": 17,
   "id": "789c4e82",
   "metadata": {},
   "outputs": [
    {
     "data": {
      "text/plain": [
       "47"
      ]
     },
     "execution_count": 17,
     "metadata": {},
     "output_type": "execute_result"
    }
   ],
   "source": [
    "df[['cliente_id']].duplicated().sum()\n",
    "#Podemos ver que los clientes que volvieron a comprar solo lo hicieron una vez"
   ]
  },
  {
   "cell_type": "code",
   "execution_count": 18,
   "id": "2c285159",
   "metadata": {},
   "outputs": [
    {
     "data": {
      "text/html": [
       "<div>\n",
       "<style scoped>\n",
       "    .dataframe tbody tr th:only-of-type {\n",
       "        vertical-align: middle;\n",
       "    }\n",
       "\n",
       "    .dataframe tbody tr th {\n",
       "        vertical-align: top;\n",
       "    }\n",
       "\n",
       "    .dataframe thead th {\n",
       "        text-align: right;\n",
       "    }\n",
       "</style>\n",
       "<table border=\"1\" class=\"dataframe\">\n",
       "  <thead>\n",
       "    <tr style=\"text-align: right;\">\n",
       "      <th></th>\n",
       "      <th>cliente_id</th>\n",
       "    </tr>\n",
       "  </thead>\n",
       "  <tbody>\n",
       "    <tr>\n",
       "      <th>30</th>\n",
       "      <td>1155883</td>\n",
       "    </tr>\n",
       "    <tr>\n",
       "      <th>39</th>\n",
       "      <td>1046770</td>\n",
       "    </tr>\n",
       "    <tr>\n",
       "      <th>41</th>\n",
       "      <td>102268602</td>\n",
       "    </tr>\n",
       "    <tr>\n",
       "      <th>44</th>\n",
       "      <td>102143772</td>\n",
       "    </tr>\n",
       "    <tr>\n",
       "      <th>56</th>\n",
       "      <td>1135034</td>\n",
       "    </tr>\n",
       "    <tr>\n",
       "      <th>64</th>\n",
       "      <td>1073002</td>\n",
       "    </tr>\n",
       "    <tr>\n",
       "      <th>65</th>\n",
       "      <td>102184272</td>\n",
       "    </tr>\n",
       "    <tr>\n",
       "      <th>74</th>\n",
       "      <td>1120716</td>\n",
       "    </tr>\n",
       "    <tr>\n",
       "      <th>75</th>\n",
       "      <td>1021254</td>\n",
       "    </tr>\n",
       "    <tr>\n",
       "      <th>81</th>\n",
       "      <td>102398131</td>\n",
       "    </tr>\n",
       "    <tr>\n",
       "      <th>92</th>\n",
       "      <td>102049123</td>\n",
       "    </tr>\n",
       "    <tr>\n",
       "      <th>103</th>\n",
       "      <td>102234453</td>\n",
       "    </tr>\n",
       "    <tr>\n",
       "      <th>125</th>\n",
       "      <td>1071453</td>\n",
       "    </tr>\n",
       "    <tr>\n",
       "      <th>129</th>\n",
       "      <td>1071453</td>\n",
       "    </tr>\n",
       "    <tr>\n",
       "      <th>133</th>\n",
       "      <td>1056201</td>\n",
       "    </tr>\n",
       "    <tr>\n",
       "      <th>136</th>\n",
       "      <td>1046770</td>\n",
       "    </tr>\n",
       "    <tr>\n",
       "      <th>137</th>\n",
       "      <td>1068465</td>\n",
       "    </tr>\n",
       "    <tr>\n",
       "      <th>168</th>\n",
       "      <td>1054657</td>\n",
       "    </tr>\n",
       "    <tr>\n",
       "      <th>185</th>\n",
       "      <td>1046770</td>\n",
       "    </tr>\n",
       "    <tr>\n",
       "      <th>189</th>\n",
       "      <td>1178225</td>\n",
       "    </tr>\n",
       "    <tr>\n",
       "      <th>191</th>\n",
       "      <td>1120716</td>\n",
       "    </tr>\n",
       "    <tr>\n",
       "      <th>199</th>\n",
       "      <td>1035138</td>\n",
       "    </tr>\n",
       "    <tr>\n",
       "      <th>210</th>\n",
       "      <td>102452269</td>\n",
       "    </tr>\n",
       "    <tr>\n",
       "      <th>213</th>\n",
       "      <td>102113937</td>\n",
       "    </tr>\n",
       "    <tr>\n",
       "      <th>221</th>\n",
       "      <td>102086301</td>\n",
       "    </tr>\n",
       "    <tr>\n",
       "      <th>228</th>\n",
       "      <td>1165023</td>\n",
       "    </tr>\n",
       "    <tr>\n",
       "      <th>233</th>\n",
       "      <td>102113937</td>\n",
       "    </tr>\n",
       "    <tr>\n",
       "      <th>237</th>\n",
       "      <td>1107062</td>\n",
       "    </tr>\n",
       "    <tr>\n",
       "      <th>240</th>\n",
       "      <td>102026815</td>\n",
       "    </tr>\n",
       "    <tr>\n",
       "      <th>242</th>\n",
       "      <td>1135034</td>\n",
       "    </tr>\n",
       "    <tr>\n",
       "      <th>252</th>\n",
       "      <td>102234453</td>\n",
       "    </tr>\n",
       "    <tr>\n",
       "      <th>258</th>\n",
       "      <td>101895885</td>\n",
       "    </tr>\n",
       "    <tr>\n",
       "      <th>259</th>\n",
       "      <td>101946280</td>\n",
       "    </tr>\n",
       "    <tr>\n",
       "      <th>267</th>\n",
       "      <td>101938276</td>\n",
       "    </tr>\n",
       "    <tr>\n",
       "      <th>274</th>\n",
       "      <td>1124896</td>\n",
       "    </tr>\n",
       "    <tr>\n",
       "      <th>277</th>\n",
       "      <td>102500062</td>\n",
       "    </tr>\n",
       "    <tr>\n",
       "      <th>305</th>\n",
       "      <td>102456274</td>\n",
       "    </tr>\n",
       "    <tr>\n",
       "      <th>311</th>\n",
       "      <td>1145842</td>\n",
       "    </tr>\n",
       "    <tr>\n",
       "      <th>314</th>\n",
       "      <td>1029892</td>\n",
       "    </tr>\n",
       "    <tr>\n",
       "      <th>318</th>\n",
       "      <td>1172239</td>\n",
       "    </tr>\n",
       "    <tr>\n",
       "      <th>321</th>\n",
       "      <td>102515245</td>\n",
       "    </tr>\n",
       "    <tr>\n",
       "      <th>322</th>\n",
       "      <td>102444412</td>\n",
       "    </tr>\n",
       "    <tr>\n",
       "      <th>327</th>\n",
       "      <td>102234453</td>\n",
       "    </tr>\n",
       "    <tr>\n",
       "      <th>330</th>\n",
       "      <td>1022919</td>\n",
       "    </tr>\n",
       "    <tr>\n",
       "      <th>340</th>\n",
       "      <td>102023527</td>\n",
       "    </tr>\n",
       "    <tr>\n",
       "      <th>344</th>\n",
       "      <td>1081717</td>\n",
       "    </tr>\n",
       "    <tr>\n",
       "      <th>345</th>\n",
       "      <td>1107062</td>\n",
       "    </tr>\n",
       "  </tbody>\n",
       "</table>\n",
       "</div>"
      ],
      "text/plain": [
       "     cliente_id\n",
       "30      1155883\n",
       "39      1046770\n",
       "41    102268602\n",
       "44    102143772\n",
       "56      1135034\n",
       "64      1073002\n",
       "65    102184272\n",
       "74      1120716\n",
       "75      1021254\n",
       "81    102398131\n",
       "92    102049123\n",
       "103   102234453\n",
       "125     1071453\n",
       "129     1071453\n",
       "133     1056201\n",
       "136     1046770\n",
       "137     1068465\n",
       "168     1054657\n",
       "185     1046770\n",
       "189     1178225\n",
       "191     1120716\n",
       "199     1035138\n",
       "210   102452269\n",
       "213   102113937\n",
       "221   102086301\n",
       "228     1165023\n",
       "233   102113937\n",
       "237     1107062\n",
       "240   102026815\n",
       "242     1135034\n",
       "252   102234453\n",
       "258   101895885\n",
       "259   101946280\n",
       "267   101938276\n",
       "274     1124896\n",
       "277   102500062\n",
       "305   102456274\n",
       "311     1145842\n",
       "314     1029892\n",
       "318     1172239\n",
       "321   102515245\n",
       "322   102444412\n",
       "327   102234453\n",
       "330     1022919\n",
       "340   102023527\n",
       "344     1081717\n",
       "345     1107062"
      ]
     },
     "execution_count": 18,
     "metadata": {},
     "output_type": "execute_result"
    }
   ],
   "source": [
    "df[['cliente_id']].loc[df[['cliente_id']].duplicated()]\n",
    "#Encuentro los clientes que compraron dos veces en la primer campaña"
   ]
  },
  {
   "cell_type": "code",
   "execution_count": 19,
   "id": "f21e0e96",
   "metadata": {},
   "outputs": [
    {
     "data": {
      "text/plain": [
       "(47, 18)"
      ]
     },
     "execution_count": 19,
     "metadata": {},
     "output_type": "execute_result"
    }
   ],
   "source": [
    "df_2 = df.loc[df[['cliente_id']].duplicated()]\n",
    "df_2.shape"
   ]
  },
  {
   "cell_type": "code",
   "execution_count": 20,
   "id": "9abbe729",
   "metadata": {},
   "outputs": [
    {
     "data": {
      "text/plain": [
       "Millenials      20\n",
       "GeneraciónX     11\n",
       "sin info         9\n",
       "GeneraciónZ      5\n",
       "Baby Boomers     1\n",
       "Otros            1\n",
       "Name: description, dtype: int64"
      ]
     },
     "execution_count": 20,
     "metadata": {},
     "output_type": "execute_result"
    }
   ],
   "source": [
    "#Analizo a que rango etario corresponden los clientes que volvieron a comprar dentro del mismo periodo\n",
    "df_2.description.value_counts()"
   ]
  },
  {
   "cell_type": "code",
   "execution_count": 21,
   "id": "8f5cbbae",
   "metadata": {},
   "outputs": [
    {
     "data": {
      "image/png": "[encoded data removed]",
      "text/plain": [
       "<Figure size 720x720 with 1 Axes>"
      ]
     },
     "metadata": {},
     "output_type": "display_data"
    }
   ],
   "source": [
    "plt.figure(figsize=(10,10))\n",
    "plt.pie(df_2.description.value_counts(), labels = df_2.description.value_counts().index,  labeldistance= 1.3, autopct='%1.1f%%',pctdistance=0.8, textprops={'color':\"w\"})\n",
    "plt.box(False)\n",
    "plt.show()"
   ]
  },
  {
   "cell_type": "code",
   "execution_count": 22,
   "id": "adc34172",
   "metadata": {},
   "outputs": [
    {
     "data": {
      "text/plain": [
       "CARREFOUR    26\n",
       "COTO         14\n",
       "CHANGOMAS     5\n",
       "WALMART       2\n",
       "Name: shop_name, dtype: int64"
      ]
     },
     "execution_count": 22,
     "metadata": {},
     "output_type": "execute_result"
    }
   ],
   "source": [
    "#Analizo donde compraron las personas que repitieron \n",
    "df_2.shop_name.value_counts()"
   ]
  },
  {
   "cell_type": "code",
   "execution_count": 23,
   "id": "3c16fc9e",
   "metadata": {},
   "outputs": [
    {
     "data": {
      "image/png": "[encoded data removed]",
      "text/plain": [
       "<Figure size 720x720 with 1 Axes>"
      ]
     },
     "metadata": {},
     "output_type": "display_data"
    }
   ],
   "source": [
    "plt.figure(figsize=(10,10))\n",
    "plt.pie(df_2.shop_name.value_counts(), labels = df_2.shop_name.value_counts().index,  labeldistance= 1.3, autopct='%1.1f%%',pctdistance=0.8, textprops={'color':\"w\"})\n",
    "plt.box(False)\n",
    "plt.show()"
   ]
  },
  {
   "cell_type": "code",
   "execution_count": 24,
   "id": "b520c2fc",
   "metadata": {},
   "outputs": [
    {
     "data": {
      "text/plain": [
       "0"
      ]
     },
     "execution_count": 24,
     "metadata": {},
     "output_type": "execute_result"
    }
   ],
   "source": [
    "df_2.duplicated().sum()\n",
    "#No se encuentran duplicados, lo que refleja que nadie repitio mas de una vez en este periodo"
   ]
  },
  {
   "cell_type": "code",
   "execution_count": 41,
   "id": "305efb63",
   "metadata": {},
   "outputs": [
    {
     "name": "stdout",
     "output_type": "stream",
     "text": [
      "(120,)\n"
     ]
    },
    {
     "data": {
      "text/plain": [
       "Buenos Aires       70\n",
       "sin info           32\n",
       "Parana              6\n",
       "Rosario             6\n",
       "Salta               5\n",
       "Corrientes          5\n",
       "Cordoba             5\n",
       "Ramos Mejia         4\n",
       "Bahia Blanca        4\n",
       "Merlo               4\n",
       "Villa Ballester     4\n",
       "Lomas De Zamora     4\n",
       "Mendoza             4\n",
       "La Plata            4\n",
       "Neuquen             3\n",
       "Name: Ciudad, dtype: int64"
      ]
     },
     "execution_count": 41,
     "metadata": {},
     "output_type": "execute_result"
    }
   ],
   "source": [
    "#Analizo la demografica de los consumidores\n",
    "print(df_.Ciudad.value_counts().shape)\n",
    "df_.Ciudad.value_counts().head(15)\n",
    "#No puedo concluir nada con estos resultados mas alla de que los principales datos provienen de Buenos Aires"
   ]
  },
  {
   "cell_type": "code",
   "execution_count": null,
   "id": "2dcdf324",
   "metadata": {},
   "outputs": [],
   "source": []
  }
 ],
 "metadata": {
  "kernelspec": {
   "display_name": "Python [conda env:dhdsblend2021] *",
   "language": "python",
   "name": "conda-env-dhdsblend2021-py"
  },
  "language_info": {
   "codemirror_mode": {
    "name": "ipython",
    "version": 3
   },
   "file_extension": ".py",
   "mimetype": "text/x-python",
   "name": "python",
   "nbconvert_exporter": "python",
   "pygments_lexer": "ipython3",
   "version": "3.8.11"
  }
 },
 "nbformat": 4,
 "nbformat_minor": 5
}
